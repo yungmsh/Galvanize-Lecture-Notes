{
 "cells": [
  {
   "cell_type": "code",
   "execution_count": 63,
   "metadata": {},
   "outputs": [],
   "source": [
    "import tvm_users_scatter as tus\n",
    "from ipywidgets import interact, interactive, fixed, interact_manual, widgets\n",
    "import pandas as pd\n",
    "import numpy as np\n",
    "import matplotlib.pyplot as plt\n",
    "from sklearn.linear_model import LinearRegression\n",
    "from bokeh.layouts import layout\n",
    "from bokeh.io import push_notebook\n",
    "from bokeh.plotting import figure, show, output_file, output_notebook\n",
    "from bokeh.models import ColumnDataSource, Range1d, LabelSet, Label, HoverTool, PrintfTickFormatter,NumeralTickFormatter, Legend, Toggle, BoxAnnotation, CustomJS\n",
    "# import psycopg2\n",
    "from datetime import datetime,timedelta"
   ]
  },
  {
   "cell_type": "code",
   "execution_count": 123,
   "metadata": {},
   "outputs": [],
   "source": [
    "df = pd.read_csv('data/2018/channel_user_tvm_sessions_by_PT_2018-03.csv')\n",
    "# df = tus.cleanDF(df)"
   ]
  },
  {
   "cell_type": "code",
   "execution_count": 128,
   "metadata": {},
   "outputs": [
    {
     "data": {
      "text/html": [
       "<div>\n",
       "<style scoped>\n",
       "    .dataframe tbody tr th:only-of-type {\n",
       "        vertical-align: middle;\n",
       "    }\n",
       "\n",
       "    .dataframe tbody tr th {\n",
       "        vertical-align: top;\n",
       "    }\n",
       "\n",
       "    .dataframe thead th {\n",
       "        text-align: right;\n",
       "    }\n",
       "</style>\n",
       "<table border=\"1\" class=\"dataframe\">\n",
       "  <thead>\n",
       "    <tr style=\"text-align: right;\">\n",
       "      <th></th>\n",
       "      <th>platform_type</th>\n",
       "      <th>anon_user_id</th>\n",
       "      <th>name</th>\n",
       "      <th>tvm</th>\n",
       "      <th>sessions</th>\n",
       "    </tr>\n",
       "  </thead>\n",
       "  <tbody>\n",
       "    <tr>\n",
       "      <th>0</th>\n",
       "      <td>CTV</td>\n",
       "      <td>e87065f8-2166-405d-947a-0c1a5aba12d3_d5a6f9c76...</td>\n",
       "      <td>Flicks of Fury</td>\n",
       "      <td>872</td>\n",
       "      <td>2</td>\n",
       "    </tr>\n",
       "    <tr>\n",
       "      <th>1</th>\n",
       "      <td>CTV</td>\n",
       "      <td>ROKU-YN00WX009869</td>\n",
       "      <td>Stand-up TV</td>\n",
       "      <td>199</td>\n",
       "      <td>3</td>\n",
       "    </tr>\n",
       "    <tr>\n",
       "      <th>2</th>\n",
       "      <td>CTV</td>\n",
       "      <td>ROKU-YW00CU314789</td>\n",
       "      <td>Adventure TV</td>\n",
       "      <td>531</td>\n",
       "      <td>11</td>\n",
       "    </tr>\n",
       "    <tr>\n",
       "      <th>3</th>\n",
       "      <td>CTV</td>\n",
       "      <td>46067e6b-de7e-43a6-b139-5b3fad10420c_5754ea96a...</td>\n",
       "      <td>Awesomeness TV</td>\n",
       "      <td>2699</td>\n",
       "      <td>14</td>\n",
       "    </tr>\n",
       "    <tr>\n",
       "      <th>4</th>\n",
       "      <td>CTV</td>\n",
       "      <td>ROKU-1GN38D081442</td>\n",
       "      <td>IGN</td>\n",
       "      <td>859</td>\n",
       "      <td>27</td>\n",
       "    </tr>\n",
       "  </tbody>\n",
       "</table>\n",
       "</div>"
      ],
      "text/plain": [
       "  platform_type                                       anon_user_id  \\\n",
       "0           CTV  e87065f8-2166-405d-947a-0c1a5aba12d3_d5a6f9c76...   \n",
       "1           CTV                                  ROKU-YN00WX009869   \n",
       "2           CTV                                  ROKU-YW00CU314789   \n",
       "3           CTV  46067e6b-de7e-43a6-b139-5b3fad10420c_5754ea96a...   \n",
       "4           CTV                                  ROKU-1GN38D081442   \n",
       "\n",
       "             name   tvm  sessions  \n",
       "0  Flicks of Fury   872         2  \n",
       "1     Stand-up TV   199         3  \n",
       "2    Adventure TV   531        11  \n",
       "3  Awesomeness TV  2699        14  \n",
       "4             IGN   859        27  "
      ]
     },
     "execution_count": 128,
     "metadata": {},
     "output_type": "execute_result"
    }
   ],
   "source": [
    "df.head()"
   ]
  },
  {
   "cell_type": "code",
   "execution_count": 129,
   "metadata": {},
   "outputs": [
    {
     "data": {
      "text/plain": [
       "CTV       1117200\n",
       "Mobile     235882\n",
       "Name: platform_type, dtype: int64"
      ]
     },
     "execution_count": 129,
     "metadata": {},
     "output_type": "execute_result"
    }
   ],
   "source": [
    "df['platform_type'].value_counts()"
   ]
  },
  {
   "cell_type": "code",
   "execution_count": 130,
   "metadata": {},
   "outputs": [],
   "source": [
    "df.columns = ['platform_type','anon_user_id','channel','tvm','sessions']"
   ]
  },
  {
   "cell_type": "code",
   "execution_count": 133,
   "metadata": {},
   "outputs": [],
   "source": [
    "df['asd'] = df['tvm'] / df['sessions']"
   ]
  },
  {
   "cell_type": "code",
   "execution_count": 146,
   "metadata": {},
   "outputs": [],
   "source": [
    "dfs = {}\n",
    "platform_types = ['CTV','Mobile']\n",
    "for pt in platform_types:\n",
    "    dfs[pt] = df[df['platform_type']==pt].reset_index(drop=True)"
   ]
  },
  {
   "cell_type": "code",
   "execution_count": 147,
   "metadata": {},
   "outputs": [],
   "source": [
    "# Remove upper outliers\n",
    "for pt in platform_types:\n",
    "    dfs[pt][dfs[pt]['tvm']<np.percentile(dfs[pt]['tvm'],99)].reset_index(drop=True, inplace=True)\n",
    "    dfs[pt][dfs[pt]['sessions']<np.percentile(dfs[pt]['sessions'],99)].reset_index(drop=True, inplace=True)"
   ]
  },
  {
   "cell_type": "code",
   "execution_count": 148,
   "metadata": {},
   "outputs": [],
   "source": [
    "gs = {pt:{} for pt in platform_types}\n",
    "for pt in platform_types:\n",
    "    gs[pt]['mean'] = dfs[pt].groupby('channel').mean().reset_index()\n",
    "    gs[pt]['counts'] = dfs[pt].groupby('channel').count().reset_index().iloc[:,:2]\n",
    "    gs[pt]['counts'].columns = ['channel','users']"
   ]
  },
  {
   "cell_type": "code",
   "execution_count": 149,
   "metadata": {},
   "outputs": [],
   "source": [
    "channels = pd.read_csv('data/2018/pluto_channels.csv')"
   ]
  },
  {
   "cell_type": "code",
   "execution_count": 150,
   "metadata": {},
   "outputs": [],
   "source": [
    "for pt in platform_types:\n",
    "    gs[pt]['mean'] = gs[pt]['mean'].merge(channels, left_on='channel',right_on='name')\n",
    "    gs[pt]['mean'] = gs[pt]['mean'].merge(gs[pt]['counts'], left_on='channel',right_on='channel')"
   ]
  },
  {
   "cell_type": "code",
   "execution_count": 158,
   "metadata": {},
   "outputs": [],
   "source": [
    "min_users = 300\n",
    "bad_channels = g_counts[g_counts['users']<min_users]['channel']\n",
    "bad_cats = ['Music + Radio','Pluto']\n",
    "\n",
    "for pt in platform_types:\n",
    "    gs[pt]['mean'] = gs[pt]['mean'][np.invert(gs[pt]['mean']['category'].isin(bad_cats))]\n",
    "    gs[pt]['mean'] = gs[pt]['mean'][np.invert(gs[pt]['mean']['channel'].isin(bad_channels))]"
   ]
  },
  {
   "cell_type": "markdown",
   "metadata": {},
   "source": [
    "# Note to self: x (freq), y (asd), z (USERS)"
   ]
  },
  {
   "cell_type": "markdown",
   "metadata": {},
   "source": [
    "#### CTV"
   ]
  },
  {
   "cell_type": "code",
   "execution_count": 165,
   "metadata": {
    "scrolled": false
   },
   "outputs": [
    {
     "data": {
      "text/html": [
       "\n",
       "<div class=\"bk-root\">\n",
       "    <div class=\"bk-plotdiv\" id=\"8caf3d7d-23b5-4182-bdd0-95e4cbc80ab8\"></div>\n",
       "</div>"
      ]
     },
     "metadata": {},
     "output_type": "display_data"
    },
    {
     "data": {
      "application/javascript": [
       "(function(root) {\n",
       "  function embed_document(root) {\n",
       "    \n",
       "  var docs_json = {\"5529628f-0842-4f75-b162-2ba2a4be1da5\":{\"roots\":{\"references\":[{\"attributes\":{\"args\":{\"object\":{\"id\":\"18249f59-43d9-4ff1-a73b-f612446f8842\",\"type\":\"LabelSet\"},\"toggle\":{\"id\":\"b204aab1-6215-4d34-8ab0-74eff831c463\",\"type\":\"Toggle\"}},\"code\":\"object.visible = toggle.active;\\n\"},\"id\":\"5d98c754-343d-4aa8-8162-845dfe5c2f3b\",\"type\":\"CustomJS\"},{\"attributes\":{\"source\":{\"id\":\"0bec6633-d569-4897-a8ac-695f1b1ff822\",\"type\":\"ColumnDataSource\"}},\"id\":\"0e49e9c5-31ea-4923-851f-f68fa0afe16d\",\"type\":\"CDSView\"},{\"attributes\":{\"level\":\"glyph\",\"plot\":{\"id\":\"f9458bac-877e-42fd-81d5-b11d34102a9e\",\"subtype\":\"Figure\",\"type\":\"Plot\"},\"source\":{\"id\":\"7dcddd83-ac38-4c80-8a43-71303b794307\",\"type\":\"ColumnDataSource\"},\"text\":{\"field\":\"channel\"},\"x\":{\"field\":\"x\"},\"x_offset\":{\"value\":5},\"y\":{\"field\":\"y\"},\"y_offset\":{\"value\":5}},\"id\":\"18249f59-43d9-4ff1-a73b-f612446f8842\",\"type\":\"LabelSet\"},{\"attributes\":{\"line_color\":\"grey\",\"x\":{\"field\":\"x\"},\"y\":{\"field\":\"y\"}},\"id\":\"d93d6262-6f30-465f-8b83-c65789eebd47\",\"type\":\"Line\"},{\"attributes\":{\"children\":[{\"id\":\"f9458bac-877e-42fd-81d5-b11d34102a9e\",\"subtype\":\"Figure\",\"type\":\"Plot\"}]},\"id\":\"11b90fc4-5dd3-471a-a062-6fabe1b15f13\",\"type\":\"Row\"},{\"attributes\":{\"label\":{\"field\":\"category\"},\"renderers\":[{\"id\":\"1d31ce93-7b3d-4084-bff7-940957271faa\",\"type\":\"GlyphRenderer\"}]},\"id\":\"c1de1fcf-6278-4a90-bb15-850643bf6270\",\"type\":\"LegendItem\"},{\"attributes\":{\"data_source\":{\"id\":\"7dcddd83-ac38-4c80-8a43-71303b794307\",\"type\":\"ColumnDataSource\"},\"glyph\":{\"id\":\"392ccd71-b5be-4bcb-9a11-0b6c769e9554\",\"type\":\"Circle\"},\"hover_glyph\":null,\"muted_glyph\":null,\"nonselection_glyph\":{\"id\":\"0d0e6a4a-9e4a-4f39-86db-f13b0a2f3bba\",\"type\":\"Circle\"},\"selection_glyph\":null,\"view\":{\"id\":\"ce1617c2-7667-4925-9f78-a5c7becca7e7\",\"type\":\"CDSView\"}},\"id\":\"1d31ce93-7b3d-4084-bff7-940957271faa\",\"type\":\"GlyphRenderer\"},{\"attributes\":{\"click_policy\":\"hide\",\"items\":[{\"id\":\"c1de1fcf-6278-4a90-bb15-850643bf6270\",\"type\":\"LegendItem\"}],\"label_text_font_size\":{\"value\":\"8pt\"},\"location\":\"top_left\",\"plot\":{\"id\":\"f9458bac-877e-42fd-81d5-b11d34102a9e\",\"subtype\":\"Figure\",\"type\":\"Plot\"}},\"id\":\"a1ed79f9-43b2-4bc4-8d11-d74c95d6876c\",\"type\":\"Legend\"},{\"attributes\":{\"data_source\":{\"id\":\"c1397af0-714f-4fd8-9e86-1e52a98e2c43\",\"type\":\"ColumnDataSource\"},\"glyph\":{\"id\":\"d93d6262-6f30-465f-8b83-c65789eebd47\",\"type\":\"Line\"},\"hover_glyph\":null,\"muted_glyph\":null,\"nonselection_glyph\":{\"id\":\"bf287dfc-f779-4c2c-804c-4a0902ea0c91\",\"type\":\"Line\"},\"selection_glyph\":null,\"view\":{\"id\":\"01a4cba6-4d73-47ab-b535-61890d5c21da\",\"type\":\"CDSView\"}},\"id\":\"4afc366d-0076-4bdc-82b1-93c423de28d4\",\"type\":\"GlyphRenderer\"},{\"attributes\":{\"line_alpha\":0.1,\"line_color\":\"#1f77b4\",\"x\":{\"field\":\"x\"},\"y\":{\"field\":\"y\"}},\"id\":\"bf287dfc-f779-4c2c-804c-4a0902ea0c91\",\"type\":\"Line\"},{\"attributes\":{\"callback\":null,\"column_names\":[\"category\",\"zsize\",\"y\",\"color\",\"x\",\"z\",\"channel\"],\"data\":{\"category\":[\"Chill Out\",\"Movies\",\"Life + Style\",\"Entertainment\",\"Geek + Gaming\",\"Entertainment\",\"Sports\",\"Sports\",\"Sports\",\"Movies\",\"News\",\"News\",\"News\",\"Sports\",\"News\",\"Geek + Gaming\",\"Comedy\",\"Comedy\",\"News\",\"Movies\",\"Entertainment\",\"Entertainment\",\"Life + Style\",\"Entertainment\",\"Curiosity\",\"Entertainment\",\"Chill Out\",\"Sports\",\"Comedy\",\"Entertainment\",\"Sports\",\"Movies\",\"Life + Style\",\"Life + Style\",\"Comedy\",\"Sports\",\"Geek + Gaming\",\"Movies\",\"Geek + Gaming\",\"Movies\",\"Geek + Gaming\",\"Sports\",\"Chill Out\",\"Comedy\",\"Entertainment\",\"Life + Style\",\"Entertainment\",\"Comedy\",\"Entertainment\",\"Geek + Gaming\",\"Chill Out\",\"Sports\",\"Curiosity\",\"News\",\"Chill Out\",\"Geek + Gaming\",\"News\",\"News\",\"News\",\"Life + Style\",\"Entertainment\",\"Life + Style\",\"Movies\",\"Movies\",\"Sports\",\"Entertainment\",\"News\",\"Comedy\",\"Curiosity\",\"Entertainment\",\"News\",\"Chill Out\",\"Sports\",\"Sports\",\"Comedy\",\"Chill Out\",\"News\",\"Life + Style\",\"Movies\",\"Geek + Gaming\",\"Comedy\",\"Comedy\",\"News\",\"Chill Out\",\"Entertainment\",\"Sports\",\"Curiosity\"],\"channel\":[\"4K TV\",\"Action Movies\",\"Adventure TV\",\"After School Cartoons\",\"Anime All Day\",\"Awesomeness TV\",\"Big Sky Conference\",\"Big Sky Conference Live\",\"Big Sky Live 2\",\"Black Cinema\",\"Bloomberg TV\",\"Business News 24/7\",\"CBSN 3\",\"CIF Football\",\"CNBC\",\"CNET\",\"CRACKED\",\"Cats 24/7\",\"Cheddar\",\"Classic Movies Channel\",\"Classic TV\",\"Classic Toons TV\",\"Clevver\",\"Crime Network\",\"DocuTV\",\"DramaFever\",\"Eye Candy\",\"FOX Sports\",\"FailArmy\",\"Fear Factor\",\"Fight\",\"Flicks of Fury\",\"Food TV\",\"FrontDoor\",\"Funny AF\",\"GLORY Kickboxing\",\"Geek & Sundry\",\"Gravitas Movies\",\"Hive\",\"Horror 24/7\",\"IGN\",\"IMPACT Wrestling\",\"Internet Gold\",\"JASH\",\"Kids TV\",\"LittleThings\",\"Live Music Replay\",\"MST3K\",\"Man Up\",\"MinecrafTV\",\"Monstercat TV\",\"Montana\",\"NASA TV\",\"NBC News & MSNBC\",\"NatureVision TV\",\"Nerdist\",\"News 24/7\",\"NewsmaxTV\",\"Newsy\",\"POPSUGAR\",\"Paparazzi TV\",\"PeopleTV\",\"Pluto TV Movies\",\"Pluto TV Movies 2\",\"Pluto TV Sports\",\"REVRY 3\",\"RT America\",\"RiffTrax\",\"Science TV\",\"Shout! Factory TV\",\"Sky News\",\"Slow TV\",\"Sports News\",\"Stadium\",\"Stand-up TV\",\"THC\",\"TYT Network\",\"Tastemade\",\"The Asylum\",\"The Feed\",\"The Gorilla Channel\",\"The Onion\",\"Todays Top Story\",\"Vibes\",\"WHAT?!\",\"World Poker Tour\",\"XiveTV\"],\"color\":[\"green\",\"pink\",\"yellow\",\"black\",\"orange\",\"black\",\"turquoise\",\"turquoise\",\"turquoise\",\"pink\",\"grey\",\"grey\",\"grey\",\"turquoise\",\"grey\",\"orange\",\"blue\",\"blue\",\"grey\",\"pink\",\"black\",\"black\",\"yellow\",\"black\",\"red\",\"black\",\"green\",\"turquoise\",\"blue\",\"black\",\"turquoise\",\"pink\",\"yellow\",\"yellow\",\"blue\",\"turquoise\",\"orange\",\"pink\",\"orange\",\"pink\",\"orange\",\"turquoise\",\"green\",\"blue\",\"black\",\"yellow\",\"black\",\"blue\",\"black\",\"orange\",\"green\",\"turquoise\",\"red\",\"grey\",\"green\",\"orange\",\"grey\",\"grey\",\"grey\",\"yellow\",\"black\",\"yellow\",\"pink\",\"pink\",\"turquoise\",\"black\",\"grey\",\"blue\",\"red\",\"black\",\"grey\",\"green\",\"turquoise\",\"turquoise\",\"blue\",\"green\",\"grey\",\"yellow\",\"pink\",\"orange\",\"blue\",\"blue\",\"grey\",\"green\",\"black\",\"turquoise\",\"red\"],\"x\":{\"__ndarray__\":\"x6ADhkYdC0Cq4VY+sikNQFuJyLnDJhNAUv18WQToEkDQKPEzSnwVQJEulA6a+AtA1wiyaS37C0ApBnDljGIIQNnY2NjY2AlAeXF8/HovD0BPHgOgst0TQCWg3uW9jAhA+BUGmUTFG0CIHPREo+YHQAahxow0QRBAzEFV1iErDkCR62ZbKu4PQNcq3RM5pA9ADHy6wKcLDEAoAWMruTMKQCzgFgw7ARFAhUP0iOXREUDoJYLpVPANQBp98J95dwlAkR+yk/jYCkA7gL6psAMMQPLYcGRLjRVAc2yRQ+OzDkB0L6kuQlsVQODUbcCLeRVA6gM4vegOEUCc9GfrOz0SQJrMKVlPZhFADHbAnkBIGUAjY2Nt1CkIQOXGBF5dFhRA5TWU11BeF0CgDasGM/AMQJIV5OfT/AdAaETV+A9gEkBh3un3QQ4TQD0XBpdc8RlA67GyfKUSB0AbBB9PiA4QQCDngANaHBBANmu1z95ZBkDAsOO8S10IQOggiGtB9htAXDXftOcwDUCZ0KzeeiUWQNK00SIY5QtAl5aWlpaWAkCAiMAFHyAHQCNv0bLcaxxA1sT10bCbDEDhXxtlLT4MQE0tF+7qkxJAvhA9+G5yEkCEp+1HOq4NQC6jV9FwUxBANdrz8gSdA0BYiwGZ6I4HQEVDsIdTTQ5Algh4kRZvDUD9vkaKpaAJQI3Ub2eRvwxA3OcBLzIrFkBO/m8vwM8eQEObfey3dQ5ASI9Yyj/lCEAsKEd0yToRQOe16XAWJBJAUpTb4J5XBkCDLEe5fDgKQIM0SIM0CBBA036BW64UCUC1Eb5BbYQPQLSo113rxw9AD+7t46euEUDfoCZr/MkHQPvn6HjxrARAGDgoMCwuBUDZHPTlrasPQNMmb8XgwAhA4x9lOekAC0CZei/cpzEgQMz1EJf6ghJA\",\"dtype\":\"float64\",\"shape\":[87]},\"y\":{\"__ndarray__\":\"WPRxYGToWUBdzuyZDlZiQCzPNSOpNWJAoPZxpUMcZEAw91ZZHGlfQD4ebOes4llAT7NP+4WCYkBNA4edw35lQHgViLFIZl9APfirIEdZYUDwykahL/tcQJ6NCG6eVFxAAVjh6cABYEA7e/A7SihcQG8L1J+egV9AvH4WsWNSW0CygfszgA1ZQHeYR9oMR1lAzkDH5nzIXUCD+wXPHtdgQE6UvI6+BVpAl+xaEVqlYUBR88A5e8thQG7PG0WtdGBACuKFc+6LYEA6AenUtr1eQHvOxr7e6EdAtI+VQGMVXUCvIrgAMmVeQEO2Fg1MbWdAt7LOuarPXEA6HsN28t9gQE4du6oDImBA9+QBcGgNZUBbiqy6diNgQIoCYYD0BGBA7cjbDOweW0C/8MBNs2tcQCTOJkddUVtAUON87+4EYkBuRjvWoy1XQELW6xVjXF9AcPqYIGP8VECng7N6H31YQL1oKPI//GJA/2oEY8CrWEAFBUC7blFgQHGofow98WNAfUP4SQgHaEBqovw9z2ZjQGLkdHUU0WFAiq/4iq//XUD8BIAINflWQNehnX7JLWJAAMtSYvG5VkBS5LbWsVVWQIiyYf4T7lxAw6LSyN5ZUUBVTV2/jPJQQAB6WSf5WV9AGcA4OQtqZUBwarhKvCNgQIxmt2ZicmVAV4sNime5YkAflLy22lFcQHS5hkDcKVhABtg5pZxMUUBTY3MnriNhQJumGmTJ219AoP4V53BuXEAsETiQyLVQQJfYiDOrIGBAVDJEYznxX0DzF7DKM1VXQMg1fGUL8l5AVH+XjbBIVkBp4aVVJ9hWQEfiKqB9SV9AG0cNt3DHXkDwt5fnnhVlQOVrLaeK31hA2bJp+hZ7W0Cy4ilNRJVTQD9u8EB1NVhALIrJDq77YECpVa6TxHFmQHeI4CXug2FA\",\"dtype\":\"float64\",\"shape\":[87]},\"z\":[9173,34339,35919,12713,4968,2353,1911,665,680,23896,5254,1979,49847,323,8496,5591,3445,15375,3075,21035,10609,10950,2026,12147,25417,1110,21769,13363,29034,20586,7847,18696,14215,16100,12338,9432,3002,14128,6456,40006,3609,15005,5272,3805,9499,1373,5905,20912,49886,3019,647,272,3961,31908,3453,3722,31104,7982,9154,2074,569,2155,87070,31251,3662,2074,8060,14506,8503,6718,8692,5065,970,2266,10608,8046,5436,3871,35531,28020,4423,1935,19382,2697,6744,12466,11215],\"zsize\":{\"__ndarray__\":\"mN2Th4VaHUAN4C2QoHg7QOsENBE2vDxAEHo2qz5XJEB6xyk6kssPQK7YX3ZPHv4/L/8h/fZ1+D+gGi/dJAbhP5zEILByaOE/PSzUmuYdM0BVMCqpE9AQQGpv8IXJVPk/HHxhMlXwQ0BhVFInoInQP6vP1VbsLxtA+THmriXkEUBANV66SQwGQJqZmZmZmShArkfhehSuA0CHFtnO99MwQO84RUdy+SBAhetRuB6FIUB0tRX7y+75Px44Z0RpbyNAE/JBz2ZVNEDRItv5fmrsP5lMFYxKajFAGlHaG3xhJUC1pnnHKTo3QGRd3EYDeDBAeXqlLEMcGUAooImw4ektQFg5tMh2viZAw/UoXI/CKUB24JwRpb0jQFjKMsSxLh5AvJaQD3o2A0Dtnjws1JomQPGFyVTBqBRAqoJRSZ0AQEDwFkhQ/BgHQDZeukkMAihAO3DOiNLeEEAnMQisHFoIQIUNT6+UZR5AidLe4AuT8T9MN4lBYOUSQF8pyxDHujBAak3zjlP0Q0DDZKpgVFIDQHIbDeAtkOA/YAfOGVHayz+2hHzQs1kJQEqdgCbChjlAYcPTK2UZBkCLjuTyH9IHQMTTK2UZ4jhAtFn1udqKGUDQRNjw9EodQAdfmEwVjPo/qOhILv8h3T8v3SQGgZX7P0SLbOf7aVFAOdbFbTQAOUCP5PIf0m8HQAdfmEwVjPo/mG4Sg8DKGUDaPXlYqDUnQNo9eVioNRtAV32utmJ/FUDH3LWEfNAbQGmR7Xw/NRBAokW28/3U6D9UBaOSOgH9P36MuWsJ+SBAO5LLf0i/GUATYcPTK2URQLwFEhQ/xghAP1dbsb9sPEDRItv5fmo2QMpUwaikTgxA+FPjpZvE+D8Yt9EA3gIvQPvL7snDQgFATYQNT6+UFUD9GHPXEvIjQIxs5/up8SFA\",\"dtype\":\"float64\",\"shape\":[87]}}},\"id\":\"7dcddd83-ac38-4c80-8a43-71303b794307\",\"type\":\"ColumnDataSource\"},{\"attributes\":{\"source\":{\"id\":\"c1397af0-714f-4fd8-9e86-1e52a98e2c43\",\"type\":\"ColumnDataSource\"}},\"id\":\"01a4cba6-4d73-47ab-b535-61890d5c21da\",\"type\":\"CDSView\"},{\"attributes\":{},\"id\":\"8c747e8f-497d-46ea-85dc-835977e0aaad\",\"type\":\"BasicTicker\"},{\"attributes\":{\"fill_color\":{\"field\":\"color\"},\"line_color\":{\"field\":\"color\"},\"size\":{\"field\":\"zsize\",\"units\":\"screen\"},\"x\":{\"field\":\"x\"},\"y\":{\"field\":\"y\"}},\"id\":\"392ccd71-b5be-4bcb-9a11-0b6c769e9554\",\"type\":\"Circle\"},{\"attributes\":{\"data_source\":{\"id\":\"0bec6633-d569-4897-a8ac-695f1b1ff822\",\"type\":\"ColumnDataSource\"},\"glyph\":{\"id\":\"98863a09-71d8-49b4-8a5b-82cabf1881d2\",\"type\":\"Line\"},\"hover_glyph\":null,\"muted_glyph\":null,\"nonselection_glyph\":{\"id\":\"bf9c3a64-8e9e-4a77-ab1e-0c211ca44cd4\",\"type\":\"Line\"},\"selection_glyph\":null,\"view\":{\"id\":\"0e49e9c5-31ea-4923-851f-f68fa0afe16d\",\"type\":\"CDSView\"}},\"id\":\"506bf4ce-c975-429f-90e7-f158bce7f5d7\",\"type\":\"GlyphRenderer\"},{\"attributes\":{},\"id\":\"d534653f-e61c-46f2-b397-42418b86ab1c\",\"type\":\"WheelZoomTool\"},{\"attributes\":{\"dimension\":1,\"plot\":{\"id\":\"f9458bac-877e-42fd-81d5-b11d34102a9e\",\"subtype\":\"Figure\",\"type\":\"Plot\"},\"ticker\":{\"id\":\"8c747e8f-497d-46ea-85dc-835977e0aaad\",\"type\":\"BasicTicker\"}},\"id\":\"06f1a244-e0dc-41ef-8688-90ac696d7cc4\",\"type\":\"Grid\"},{\"attributes\":{\"click_policy\":\"hide\",\"label_text_font_size\":{\"value\":\"8pt\"},\"location\":\"top_left\",\"plot\":{\"id\":\"f9458bac-877e-42fd-81d5-b11d34102a9e\",\"subtype\":\"Figure\",\"type\":\"Plot\"}},\"id\":\"7d1b9f6d-ad3c-44f7-85bc-7e6b727996c2\",\"type\":\"Legend\"},{\"attributes\":{\"children\":[{\"id\":\"b204aab1-6215-4d34-8ab0-74eff831c463\",\"type\":\"Toggle\"}]},\"id\":\"dfe09fdc-aaf4-426e-8581-6ca942d73677\",\"type\":\"WidgetBox\"},{\"attributes\":{\"axis_label\":\"asd\",\"bounds\":[0,240.27470229254948],\"formatter\":{\"id\":\"84ddc264-7199-42de-b64c-241e8ffb1efb\",\"type\":\"BasicTickFormatter\"},\"plot\":{\"id\":\"f9458bac-877e-42fd-81d5-b11d34102a9e\",\"subtype\":\"Figure\",\"type\":\"Plot\"},\"ticker\":{\"id\":\"8c747e8f-497d-46ea-85dc-835977e0aaad\",\"type\":\"BasicTicker\"}},\"id\":\"4b5e2be4-94ce-4807-84d8-bdd7f8fa56e0\",\"type\":\"LinearAxis\"},{\"attributes\":{\"callback\":null},\"id\":\"27a18711-d829-4e23-8454-f540b0376dda\",\"type\":\"DataRange1d\"},{\"attributes\":{\"children\":[{\"id\":\"dfe09fdc-aaf4-426e-8581-6ca942d73677\",\"type\":\"WidgetBox\"}]},\"id\":\"58fb9516-44b0-4b18-8031-74d0d272fffb\",\"type\":\"Row\"},{\"attributes\":{\"callback\":null},\"id\":\"f6a1f371-1944-416a-825c-dd6415ba7e23\",\"type\":\"DataRange1d\"},{\"attributes\":{\"button_type\":\"success\",\"callback\":{\"id\":\"5d98c754-343d-4aa8-8162-845dfe5c2f3b\",\"type\":\"CustomJS\"},\"icon\":null,\"label\":\"Show/Hide Channel Labels\"},\"id\":\"b204aab1-6215-4d34-8ab0-74eff831c463\",\"type\":\"Toggle\"},{\"attributes\":{},\"id\":\"8f72334b-3841-4a21-b084-c8653b1e0299\",\"type\":\"SaveTool\"},{\"attributes\":{},\"id\":\"04a5a0d3-357f-4b0a-8b27-6e42d2e3c6ca\",\"type\":\"PanTool\"},{\"attributes\":{\"callback\":null,\"column_names\":[\"y\",\"x\"],\"data\":{\"x\":{\"__ndarray__\":\"AAAAAAAAAADrX59uyW4jQA==\",\"dtype\":\"float64\",\"shape\":[2]},\"y\":{\"__ndarray__\":\"amIvC0mkXkBqYi8LSaReQA==\",\"dtype\":\"float64\",\"shape\":[2]}}},\"id\":\"c1397af0-714f-4fd8-9e86-1e52a98e2c43\",\"type\":\"ColumnDataSource\"},{\"attributes\":{\"callback\":null,\"column_names\":[\"y\",\"x\"],\"data\":{\"x\":{\"__ndarray__\":\"m9wPD1liEECb3A8PWWIQQA==\",\"dtype\":\"float64\",\"shape\":[2]},\"y\":{\"__ndarray__\":\"AAAAAAAAAAD8UJAlPdVsQA==\",\"dtype\":\"float64\",\"shape\":[2]}}},\"id\":\"0bec6633-d569-4897-a8ac-695f1b1ff822\",\"type\":\"ColumnDataSource\"},{\"attributes\":{\"plot\":{\"id\":\"f9458bac-877e-42fd-81d5-b11d34102a9e\",\"subtype\":\"Figure\",\"type\":\"Plot\"},\"ticker\":{\"id\":\"50ab664a-170c-4999-b4cb-fa9a31ed8d9e\",\"type\":\"BasicTicker\"}},\"id\":\"690f6fb2-5632-41c3-b39e-0c8df641d61e\",\"type\":\"Grid\"},{\"attributes\":{\"axis_label\":\"sessions\",\"bounds\":[0.0,10.121229744906143],\"formatter\":{\"id\":\"1d8fa763-efe9-4cee-a82c-7aa5451e7f43\",\"type\":\"BasicTickFormatter\"},\"plot\":{\"id\":\"f9458bac-877e-42fd-81d5-b11d34102a9e\",\"subtype\":\"Figure\",\"type\":\"Plot\"},\"ticker\":{\"id\":\"50ab664a-170c-4999-b4cb-fa9a31ed8d9e\",\"type\":\"BasicTicker\"}},\"id\":\"f2768065-794c-437b-bf8c-a34cb6dade24\",\"type\":\"LinearAxis\"},{\"attributes\":{\"line_color\":\"grey\",\"x\":{\"field\":\"x\"},\"y\":{\"field\":\"y\"}},\"id\":\"98863a09-71d8-49b4-8a5b-82cabf1881d2\",\"type\":\"Line\"},{\"attributes\":{\"source\":{\"id\":\"7dcddd83-ac38-4c80-8a43-71303b794307\",\"type\":\"ColumnDataSource\"}},\"id\":\"ce1617c2-7667-4925-9f78-a5c7becca7e7\",\"type\":\"CDSView\"},{\"attributes\":{},\"id\":\"1d8fa763-efe9-4cee-a82c-7aa5451e7f43\",\"type\":\"BasicTickFormatter\"},{\"attributes\":{\"callback\":null,\"point_policy\":\"follow_mouse\",\"tooltips\":[[\"Channel\",\"@channel\"],[\"Monthly Frequency\",\"@x{0.0}\"],[\"Average Session Duration\",\"@y{0,0}\"],[\"Users\",\"@z{0,0}\"]]},\"id\":\"5c809e29-ba5c-4b46-a877-81771a645dea\",\"type\":\"HoverTool\"},{\"attributes\":{},\"id\":\"50ab664a-170c-4999-b4cb-fa9a31ed8d9e\",\"type\":\"BasicTicker\"},{\"attributes\":{},\"id\":\"bc765fca-0bcb-42b1-988b-18997af4a985\",\"type\":\"LinearScale\"},{\"attributes\":{\"fill_alpha\":{\"value\":0.1},\"fill_color\":{\"value\":\"#1f77b4\"},\"line_alpha\":{\"value\":0.1},\"line_color\":{\"value\":\"#1f77b4\"},\"size\":{\"field\":\"zsize\",\"units\":\"screen\"},\"x\":{\"field\":\"x\"},\"y\":{\"field\":\"y\"}},\"id\":\"0d0e6a4a-9e4a-4f39-86db-f13b0a2f3bba\",\"type\":\"Circle\"},{\"attributes\":{},\"id\":\"634e711e-7867-48bb-a072-26a689075876\",\"type\":\"ResetTool\"},{\"attributes\":{},\"id\":\"3854f6c7-7549-4af6-854c-d8cc15dae3a4\",\"type\":\"LinearScale\"},{\"attributes\":{},\"id\":\"84ddc264-7199-42de-b64c-241e8ffb1efb\",\"type\":\"BasicTickFormatter\"},{\"attributes\":{\"line_alpha\":0.1,\"line_color\":\"#1f77b4\",\"x\":{\"field\":\"x\"},\"y\":{\"field\":\"y\"}},\"id\":\"bf9c3a64-8e9e-4a77-ab1e-0c211ca44cd4\",\"type\":\"Line\"},{\"attributes\":{\"plot\":null,\"text\":\"Frequency (x) vs. Average Session Duration (y) vs. Users (z) (CTV, Mar 2018)\"},\"id\":\"7e25ee92-6651-4a1a-8c1c-23aea76b3da9\",\"type\":\"Title\"},{\"attributes\":{\"active_drag\":\"auto\",\"active_inspect\":\"auto\",\"active_scroll\":\"auto\",\"active_tap\":\"auto\",\"tools\":[{\"id\":\"04a5a0d3-357f-4b0a-8b27-6e42d2e3c6ca\",\"type\":\"PanTool\"},{\"id\":\"d534653f-e61c-46f2-b397-42418b86ab1c\",\"type\":\"WheelZoomTool\"},{\"id\":\"634e711e-7867-48bb-a072-26a689075876\",\"type\":\"ResetTool\"},{\"id\":\"5c809e29-ba5c-4b46-a877-81771a645dea\",\"type\":\"HoverTool\"},{\"id\":\"8f72334b-3841-4a21-b084-c8653b1e0299\",\"type\":\"SaveTool\"}]},\"id\":\"8c35f42a-a47b-409e-9194-c145f7a8e67c\",\"type\":\"Toolbar\"},{\"attributes\":{\"below\":[{\"id\":\"f2768065-794c-437b-bf8c-a34cb6dade24\",\"type\":\"LinearAxis\"}],\"left\":[{\"id\":\"4b5e2be4-94ce-4807-84d8-bdd7f8fa56e0\",\"type\":\"LinearAxis\"}],\"plot_width\":1000,\"renderers\":[{\"id\":\"f2768065-794c-437b-bf8c-a34cb6dade24\",\"type\":\"LinearAxis\"},{\"id\":\"690f6fb2-5632-41c3-b39e-0c8df641d61e\",\"type\":\"Grid\"},{\"id\":\"4b5e2be4-94ce-4807-84d8-bdd7f8fa56e0\",\"type\":\"LinearAxis\"},{\"id\":\"06f1a244-e0dc-41ef-8688-90ac696d7cc4\",\"type\":\"Grid\"},{\"id\":\"a1ed79f9-43b2-4bc4-8d11-d74c95d6876c\",\"type\":\"Legend\"},{\"id\":\"1d31ce93-7b3d-4084-bff7-940957271faa\",\"type\":\"GlyphRenderer\"},{\"id\":\"18249f59-43d9-4ff1-a73b-f612446f8842\",\"type\":\"LabelSet\"},{\"id\":\"506bf4ce-c975-429f-90e7-f158bce7f5d7\",\"type\":\"GlyphRenderer\"},{\"id\":\"4afc366d-0076-4bdc-82b1-93c423de28d4\",\"type\":\"GlyphRenderer\"},{\"id\":\"7d1b9f6d-ad3c-44f7-85bc-7e6b727996c2\",\"type\":\"Legend\"}],\"right\":[{\"id\":\"7d1b9f6d-ad3c-44f7-85bc-7e6b727996c2\",\"type\":\"Legend\"}],\"title\":{\"id\":\"7e25ee92-6651-4a1a-8c1c-23aea76b3da9\",\"type\":\"Title\"},\"toolbar\":{\"id\":\"8c35f42a-a47b-409e-9194-c145f7a8e67c\",\"type\":\"Toolbar\"},\"x_range\":{\"id\":\"27a18711-d829-4e23-8454-f540b0376dda\",\"type\":\"DataRange1d\"},\"x_scale\":{\"id\":\"3854f6c7-7549-4af6-854c-d8cc15dae3a4\",\"type\":\"LinearScale\"},\"y_range\":{\"id\":\"f6a1f371-1944-416a-825c-dd6415ba7e23\",\"type\":\"DataRange1d\"},\"y_scale\":{\"id\":\"bc765fca-0bcb-42b1-988b-18997af4a985\",\"type\":\"LinearScale\"}},\"id\":\"f9458bac-877e-42fd-81d5-b11d34102a9e\",\"subtype\":\"Figure\",\"type\":\"Plot\"},{\"attributes\":{\"children\":[{\"id\":\"11b90fc4-5dd3-471a-a062-6fabe1b15f13\",\"type\":\"Row\"},{\"id\":\"58fb9516-44b0-4b18-8031-74d0d272fffb\",\"type\":\"Row\"}]},\"id\":\"72e9e877-bc4a-4e07-924d-2a59534de057\",\"type\":\"Column\"}],\"root_ids\":[\"72e9e877-bc4a-4e07-924d-2a59534de057\"]},\"title\":\"Bokeh Application\",\"version\":\"0.12.13\"}};\n",
       "  var render_items = [{\"docid\":\"5529628f-0842-4f75-b162-2ba2a4be1da5\",\"elementid\":\"8caf3d7d-23b5-4182-bdd0-95e4cbc80ab8\",\"modelid\":\"72e9e877-bc4a-4e07-924d-2a59534de057\"}];\n",
       "  root.Bokeh.embed.embed_items_notebook(docs_json, render_items);\n",
       "\n",
       "  }\n",
       "  if (root.Bokeh !== undefined) {\n",
       "    embed_document(root);\n",
       "  } else {\n",
       "    var attempts = 0;\n",
       "    var timer = setInterval(function(root) {\n",
       "      if (root.Bokeh !== undefined) {\n",
       "        embed_document(root);\n",
       "        clearInterval(timer);\n",
       "      }\n",
       "      attempts++;\n",
       "      if (attempts > 100) {\n",
       "        console.log(\"Bokeh: ERROR: Unable to run BokehJS code because BokehJS library is missing\")\n",
       "        clearInterval(timer);\n",
       "      }\n",
       "    }, 10, root)\n",
       "  }\n",
       "})(window);"
      ],
      "application/vnd.bokehjs_exec.v0+json": ""
     },
     "metadata": {
      "application/vnd.bokehjs_exec.v0+json": {
       "id": "72e9e877-bc4a-4e07-924d-2a59534de057"
      }
     },
     "output_type": "display_data"
    }
   ],
   "source": [
    "p = createViz(gs['CTV']['mean'], \n",
    "              xcol='sessions', ycol='asd', zcol='users', scale=8e-4,\n",
    "              title='Frequency (x) vs. Average Session Duration (y) vs. Users (z) (CTV, Mar 2018)',\n",
    "              line_type='quadrant', output_format='html', output_fn='htmls/channel_scatterplot_CTV_2018-03.html')"
   ]
  },
  {
   "cell_type": "markdown",
   "metadata": {},
   "source": [
    "#### Mobile"
   ]
  },
  {
   "cell_type": "code",
   "execution_count": 162,
   "metadata": {},
   "outputs": [
    {
     "data": {
      "text/html": [
       "\n",
       "<div class=\"bk-root\">\n",
       "    <div class=\"bk-plotdiv\" id=\"405308f0-fe78-431f-9cab-492ab4b96fe5\"></div>\n",
       "</div>"
      ]
     },
     "metadata": {},
     "output_type": "display_data"
    },
    {
     "data": {
      "application/javascript": [
       "(function(root) {\n",
       "  function embed_document(root) {\n",
       "    \n",
       "  var docs_json = {\"ce5e35bf-fe37-4774-bb3e-b36e61df36c3\":{\"roots\":{\"references\":[{\"attributes\":{\"callback\":null,\"column_names\":[\"y\",\"x\"],\"data\":{\"x\":{\"__ndarray__\":\"AAAAAAAAAACc+Dv84K0iQA==\",\"dtype\":\"float64\",\"shape\":[2]},\"y\":{\"__ndarray__\":\"L0B52jXsO0AvQHnaNew7QA==\",\"dtype\":\"float64\",\"shape\":[2]}}},\"id\":\"66f8a65c-abc0-406b-b772-7ef5c55b3cbb\",\"type\":\"ColumnDataSource\"},{\"attributes\":{\"line_color\":\"grey\",\"x\":{\"field\":\"x\"},\"y\":{\"field\":\"y\"}},\"id\":\"5918c9c5-b441-4a23-99f2-d8625c3777a6\",\"type\":\"Line\"},{\"attributes\":{\"dimension\":1,\"plot\":{\"id\":\"f45dc35d-01f0-4f6b-ad8d-ce0d0f7a8dcb\",\"subtype\":\"Figure\",\"type\":\"Plot\"},\"ticker\":{\"id\":\"d5c3b355-2140-4c96-8cac-2191a8729dc6\",\"type\":\"BasicTicker\"}},\"id\":\"5f2fe200-aa28-453e-8ca7-7bdc99db21b9\",\"type\":\"Grid\"},{\"attributes\":{\"data_source\":{\"id\":\"96cc8b22-1c97-4ae3-8e0d-1fcd1b04b3b6\",\"type\":\"ColumnDataSource\"},\"glyph\":{\"id\":\"d10f6939-28d2-4dea-90d1-e28b4729ac4b\",\"type\":\"Line\"},\"hover_glyph\":null,\"muted_glyph\":null,\"nonselection_glyph\":{\"id\":\"68498f7a-b937-4e9f-bd9a-b6cab22eecab\",\"type\":\"Line\"},\"selection_glyph\":null,\"view\":{\"id\":\"5b6f311b-4eba-4151-a3cb-33096dcf9385\",\"type\":\"CDSView\"}},\"id\":\"5617c3dd-b2f1-498e-9984-9a119ce2c08f\",\"type\":\"GlyphRenderer\"},{\"attributes\":{\"args\":{\"object\":{\"id\":\"ae30e98c-de63-48d0-ac37-20b377bab992\",\"type\":\"LabelSet\"},\"toggle\":{\"id\":\"f139e872-6006-4382-8efa-c6e29f7c63f6\",\"type\":\"Toggle\"}},\"code\":\"object.visible = toggle.active;\\n\"},\"id\":\"379d6a2b-d4a8-43f7-9088-c6bc80e642dd\",\"type\":\"CustomJS\"},{\"attributes\":{\"callback\":null,\"point_policy\":\"follow_mouse\",\"tooltips\":[[\"Channel\",\"@channel\"],[\"Monthly Frequency\",\"@x{0.0}\"],[\"Average Session Duration\",\"@y{0,0}\"],[\"Users\",\"@z{0,0}\"]]},\"id\":\"219be427-c62f-4a80-90dd-9cfe7976ec20\",\"type\":\"HoverTool\"},{\"attributes\":{\"axis_label\":\"asd\",\"bounds\":[0,62.87433035714287],\"formatter\":{\"id\":\"0de92d8b-217a-4de0-b86d-e11939ac347c\",\"type\":\"BasicTickFormatter\"},\"plot\":{\"id\":\"f45dc35d-01f0-4f6b-ad8d-ce0d0f7a8dcb\",\"subtype\":\"Figure\",\"type\":\"Plot\"},\"ticker\":{\"id\":\"d5c3b355-2140-4c96-8cac-2191a8729dc6\",\"type\":\"BasicTicker\"}},\"id\":\"2f6fd083-0311-40f0-82bc-8836745c9c27\",\"type\":\"LinearAxis\"},{\"attributes\":{\"source\":{\"id\":\"66f8a65c-abc0-406b-b772-7ef5c55b3cbb\",\"type\":\"ColumnDataSource\"}},\"id\":\"fcd30c09-f488-4c51-91f5-8afc2c1ba424\",\"type\":\"CDSView\"},{\"attributes\":{\"callback\":null,\"column_names\":[\"y\",\"x\"],\"data\":{\"x\":{\"__ndarray__\":\"aG3wzd1HEEBobfDN3UcQQA==\",\"dtype\":\"float64\",\"shape\":[2]},\"y\":{\"__ndarray__\":\"AAAAAAAAAADmEzRq/y1OQA==\",\"dtype\":\"float64\",\"shape\":[2]}}},\"id\":\"96cc8b22-1c97-4ae3-8e0d-1fcd1b04b3b6\",\"type\":\"ColumnDataSource\"},{\"attributes\":{},\"id\":\"d273a929-67ee-4477-92b8-08fe70bfc134\",\"type\":\"LinearScale\"},{\"attributes\":{\"click_policy\":\"hide\",\"label_text_font_size\":{\"value\":\"8pt\"},\"location\":\"top_left\",\"plot\":{\"id\":\"f45dc35d-01f0-4f6b-ad8d-ce0d0f7a8dcb\",\"subtype\":\"Figure\",\"type\":\"Plot\"}},\"id\":\"2c73049f-7b78-4487-a600-2514749193e8\",\"type\":\"Legend\"},{\"attributes\":{\"children\":[{\"id\":\"f139e872-6006-4382-8efa-c6e29f7c63f6\",\"type\":\"Toggle\"}]},\"id\":\"633d6ddb-e7fd-44f1-9437-d8328855749e\",\"type\":\"WidgetBox\"},{\"attributes\":{\"click_policy\":\"hide\",\"items\":[{\"id\":\"eeca8c5e-7ebf-4460-b5f9-ac0281b00d60\",\"type\":\"LegendItem\"}],\"label_text_font_size\":{\"value\":\"8pt\"},\"location\":\"top_left\",\"plot\":{\"id\":\"f45dc35d-01f0-4f6b-ad8d-ce0d0f7a8dcb\",\"subtype\":\"Figure\",\"type\":\"Plot\"}},\"id\":\"c4d454f6-57ac-4f1d-8790-186523677af1\",\"type\":\"Legend\"},{\"attributes\":{},\"id\":\"ff5511de-6c72-4dd4-9c5e-c48b5c184be3\",\"type\":\"ResetTool\"},{\"attributes\":{\"children\":[{\"id\":\"3cf85462-25a0-44bd-a6be-d6362cdcd62e\",\"type\":\"Row\"},{\"id\":\"77126473-d3dc-4629-ac2b-de1503ab5f90\",\"type\":\"Row\"}]},\"id\":\"14265dcb-1b82-42fd-b3be-eb9bf33960fe\",\"type\":\"Column\"},{\"attributes\":{},\"id\":\"1039270f-d548-4b16-8099-518b3ef0c77b\",\"type\":\"BasicTicker\"},{\"attributes\":{},\"id\":\"9ea44012-2a17-4b83-a059-1b06953fb1dd\",\"type\":\"WheelZoomTool\"},{\"attributes\":{\"source\":{\"id\":\"96cc8b22-1c97-4ae3-8e0d-1fcd1b04b3b6\",\"type\":\"ColumnDataSource\"}},\"id\":\"5b6f311b-4eba-4151-a3cb-33096dcf9385\",\"type\":\"CDSView\"},{\"attributes\":{},\"id\":\"f7dd10c7-a8e7-4f1d-a230-25dad09cdf08\",\"type\":\"PanTool\"},{\"attributes\":{\"plot\":null,\"text\":\"Frequency (x) vs. Average Session Duration (y) vs. Users (z) (Mobile, Mar 2018)\"},\"id\":\"561980eb-f9b3-4bd5-9b0c-befa2c5b8019\",\"type\":\"Title\"},{\"attributes\":{\"level\":\"glyph\",\"plot\":{\"id\":\"f45dc35d-01f0-4f6b-ad8d-ce0d0f7a8dcb\",\"subtype\":\"Figure\",\"type\":\"Plot\"},\"source\":{\"id\":\"1ee9416e-8548-418f-9e97-8e64c5c6631f\",\"type\":\"ColumnDataSource\"},\"text\":{\"field\":\"channel\"},\"x\":{\"field\":\"x\"},\"x_offset\":{\"value\":5},\"y\":{\"field\":\"y\"},\"y_offset\":{\"value\":5}},\"id\":\"ae30e98c-de63-48d0-ac37-20b377bab992\",\"type\":\"LabelSet\"},{\"attributes\":{\"line_color\":\"grey\",\"x\":{\"field\":\"x\"},\"y\":{\"field\":\"y\"}},\"id\":\"d10f6939-28d2-4dea-90d1-e28b4729ac4b\",\"type\":\"Line\"},{\"attributes\":{\"children\":[{\"id\":\"633d6ddb-e7fd-44f1-9437-d8328855749e\",\"type\":\"WidgetBox\"}]},\"id\":\"77126473-d3dc-4629-ac2b-de1503ab5f90\",\"type\":\"Row\"},{\"attributes\":{\"button_type\":\"success\",\"callback\":{\"id\":\"379d6a2b-d4a8-43f7-9088-c6bc80e642dd\",\"type\":\"CustomJS\"},\"icon\":null,\"label\":\"Show/Hide Channel Labels\"},\"id\":\"f139e872-6006-4382-8efa-c6e29f7c63f6\",\"type\":\"Toggle\"},{\"attributes\":{\"axis_label\":\"sessions\",\"bounds\":[0.0,9.728757423481042],\"formatter\":{\"id\":\"3dea7a28-ca49-4c58-8277-b7c9916bf171\",\"type\":\"BasicTickFormatter\"},\"plot\":{\"id\":\"f45dc35d-01f0-4f6b-ad8d-ce0d0f7a8dcb\",\"subtype\":\"Figure\",\"type\":\"Plot\"},\"ticker\":{\"id\":\"1039270f-d548-4b16-8099-518b3ef0c77b\",\"type\":\"BasicTicker\"}},\"id\":\"b20cddec-3b1f-49c7-97dc-097daf502d1e\",\"type\":\"LinearAxis\"},{\"attributes\":{},\"id\":\"d0ede7be-a068-451c-ae0f-250b31d6ff59\",\"type\":\"SaveTool\"},{\"attributes\":{\"data_source\":{\"id\":\"66f8a65c-abc0-406b-b772-7ef5c55b3cbb\",\"type\":\"ColumnDataSource\"},\"glyph\":{\"id\":\"5918c9c5-b441-4a23-99f2-d8625c3777a6\",\"type\":\"Line\"},\"hover_glyph\":null,\"muted_glyph\":null,\"nonselection_glyph\":{\"id\":\"ab02e807-e384-4a43-8431-a92f217731c4\",\"type\":\"Line\"},\"selection_glyph\":null,\"view\":{\"id\":\"fcd30c09-f488-4c51-91f5-8afc2c1ba424\",\"type\":\"CDSView\"}},\"id\":\"b511b59e-69dc-47d5-9c40-7fe26cb0e7e8\",\"type\":\"GlyphRenderer\"},{\"attributes\":{\"active_drag\":\"auto\",\"active_inspect\":\"auto\",\"active_scroll\":\"auto\",\"active_tap\":\"auto\",\"tools\":[{\"id\":\"f7dd10c7-a8e7-4f1d-a230-25dad09cdf08\",\"type\":\"PanTool\"},{\"id\":\"9ea44012-2a17-4b83-a059-1b06953fb1dd\",\"type\":\"WheelZoomTool\"},{\"id\":\"ff5511de-6c72-4dd4-9c5e-c48b5c184be3\",\"type\":\"ResetTool\"},{\"id\":\"219be427-c62f-4a80-90dd-9cfe7976ec20\",\"type\":\"HoverTool\"},{\"id\":\"d0ede7be-a068-451c-ae0f-250b31d6ff59\",\"type\":\"SaveTool\"}]},\"id\":\"060afbc5-6936-4bd1-be79-891d9ff30442\",\"type\":\"Toolbar\"},{\"attributes\":{\"below\":[{\"id\":\"b20cddec-3b1f-49c7-97dc-097daf502d1e\",\"type\":\"LinearAxis\"}],\"left\":[{\"id\":\"2f6fd083-0311-40f0-82bc-8836745c9c27\",\"type\":\"LinearAxis\"}],\"plot_width\":1000,\"renderers\":[{\"id\":\"b20cddec-3b1f-49c7-97dc-097daf502d1e\",\"type\":\"LinearAxis\"},{\"id\":\"e39fcdad-1914-4fc6-95f7-312ac05aa5db\",\"type\":\"Grid\"},{\"id\":\"2f6fd083-0311-40f0-82bc-8836745c9c27\",\"type\":\"LinearAxis\"},{\"id\":\"5f2fe200-aa28-453e-8ca7-7bdc99db21b9\",\"type\":\"Grid\"},{\"id\":\"c4d454f6-57ac-4f1d-8790-186523677af1\",\"type\":\"Legend\"},{\"id\":\"225363f9-972b-44fb-ae93-ab1d17371e6d\",\"type\":\"GlyphRenderer\"},{\"id\":\"ae30e98c-de63-48d0-ac37-20b377bab992\",\"type\":\"LabelSet\"},{\"id\":\"5617c3dd-b2f1-498e-9984-9a119ce2c08f\",\"type\":\"GlyphRenderer\"},{\"id\":\"b511b59e-69dc-47d5-9c40-7fe26cb0e7e8\",\"type\":\"GlyphRenderer\"},{\"id\":\"2c73049f-7b78-4487-a600-2514749193e8\",\"type\":\"Legend\"}],\"right\":[{\"id\":\"2c73049f-7b78-4487-a600-2514749193e8\",\"type\":\"Legend\"}],\"title\":{\"id\":\"561980eb-f9b3-4bd5-9b0c-befa2c5b8019\",\"type\":\"Title\"},\"toolbar\":{\"id\":\"060afbc5-6936-4bd1-be79-891d9ff30442\",\"type\":\"Toolbar\"},\"x_range\":{\"id\":\"8c40524c-2d1d-4f95-a775-20042c17e868\",\"type\":\"DataRange1d\"},\"x_scale\":{\"id\":\"5a00be66-f29c-424d-9337-122ba131ace8\",\"type\":\"LinearScale\"},\"y_range\":{\"id\":\"4259c583-74b4-4ba2-8dad-e207748409b8\",\"type\":\"DataRange1d\"},\"y_scale\":{\"id\":\"d273a929-67ee-4477-92b8-08fe70bfc134\",\"type\":\"LinearScale\"}},\"id\":\"f45dc35d-01f0-4f6b-ad8d-ce0d0f7a8dcb\",\"subtype\":\"Figure\",\"type\":\"Plot\"},{\"attributes\":{\"line_alpha\":0.1,\"line_color\":\"#1f77b4\",\"x\":{\"field\":\"x\"},\"y\":{\"field\":\"y\"}},\"id\":\"68498f7a-b937-4e9f-bd9a-b6cab22eecab\",\"type\":\"Line\"},{\"attributes\":{},\"id\":\"5a00be66-f29c-424d-9337-122ba131ace8\",\"type\":\"LinearScale\"},{\"attributes\":{},\"id\":\"d5c3b355-2140-4c96-8cac-2191a8729dc6\",\"type\":\"BasicTicker\"},{\"attributes\":{\"children\":[{\"id\":\"f45dc35d-01f0-4f6b-ad8d-ce0d0f7a8dcb\",\"subtype\":\"Figure\",\"type\":\"Plot\"}]},\"id\":\"3cf85462-25a0-44bd-a6be-d6362cdcd62e\",\"type\":\"Row\"},{\"attributes\":{\"callback\":null},\"id\":\"8c40524c-2d1d-4f95-a775-20042c17e868\",\"type\":\"DataRange1d\"},{\"attributes\":{\"fill_alpha\":{\"value\":0.1},\"fill_color\":{\"value\":\"#1f77b4\"},\"line_alpha\":{\"value\":0.1},\"line_color\":{\"value\":\"#1f77b4\"},\"size\":{\"field\":\"zsize\",\"units\":\"screen\"},\"x\":{\"field\":\"x\"},\"y\":{\"field\":\"y\"}},\"id\":\"96650709-673c-44aa-8fb6-4eac4d48d087\",\"type\":\"Circle\"},{\"attributes\":{\"plot\":{\"id\":\"f45dc35d-01f0-4f6b-ad8d-ce0d0f7a8dcb\",\"subtype\":\"Figure\",\"type\":\"Plot\"},\"ticker\":{\"id\":\"1039270f-d548-4b16-8099-518b3ef0c77b\",\"type\":\"BasicTicker\"}},\"id\":\"e39fcdad-1914-4fc6-95f7-312ac05aa5db\",\"type\":\"Grid\"},{\"attributes\":{\"label\":{\"field\":\"category\"},\"renderers\":[{\"id\":\"225363f9-972b-44fb-ae93-ab1d17371e6d\",\"type\":\"GlyphRenderer\"}]},\"id\":\"eeca8c5e-7ebf-4460-b5f9-ac0281b00d60\",\"type\":\"LegendItem\"},{\"attributes\":{\"fill_color\":{\"field\":\"color\"},\"line_color\":{\"field\":\"color\"},\"size\":{\"field\":\"zsize\",\"units\":\"screen\"},\"x\":{\"field\":\"x\"},\"y\":{\"field\":\"y\"}},\"id\":\"cb825c88-a324-418f-bb06-57fa35c2a6f9\",\"type\":\"Circle\"},{\"attributes\":{\"line_alpha\":0.1,\"line_color\":\"#1f77b4\",\"x\":{\"field\":\"x\"},\"y\":{\"field\":\"y\"}},\"id\":\"ab02e807-e384-4a43-8431-a92f217731c4\",\"type\":\"Line\"},{\"attributes\":{\"data_source\":{\"id\":\"1ee9416e-8548-418f-9e97-8e64c5c6631f\",\"type\":\"ColumnDataSource\"},\"glyph\":{\"id\":\"cb825c88-a324-418f-bb06-57fa35c2a6f9\",\"type\":\"Circle\"},\"hover_glyph\":null,\"muted_glyph\":null,\"nonselection_glyph\":{\"id\":\"96650709-673c-44aa-8fb6-4eac4d48d087\",\"type\":\"Circle\"},\"selection_glyph\":null,\"view\":{\"id\":\"c9850f14-9593-49f3-abdc-f3b67b5e8a97\",\"type\":\"CDSView\"}},\"id\":\"225363f9-972b-44fb-ae93-ab1d17371e6d\",\"type\":\"GlyphRenderer\"},{\"attributes\":{},\"id\":\"3dea7a28-ca49-4c58-8277-b7c9916bf171\",\"type\":\"BasicTickFormatter\"},{\"attributes\":{},\"id\":\"0de92d8b-217a-4de0-b86d-e11939ac347c\",\"type\":\"BasicTickFormatter\"},{\"attributes\":{\"callback\":null,\"column_names\":[\"category\",\"zsize\",\"y\",\"color\",\"x\",\"z\",\"channel\"],\"data\":{\"category\":[\"Chill Out\",\"Movies\",\"Life + Style\",\"Entertainment\",\"Geek + Gaming\",\"Entertainment\",\"Sports\",\"Sports\",\"Sports\",\"Movies\",\"News\",\"News\",\"News\",\"Sports\",\"News\",\"Geek + Gaming\",\"Comedy\",\"Comedy\",\"News\",\"Movies\",\"Entertainment\",\"Entertainment\",\"Life + Style\",\"Entertainment\",\"Curiosity\",\"Entertainment\",\"Chill Out\",\"Sports\",\"Comedy\",\"Entertainment\",\"Sports\",\"Movies\",\"Life + Style\",\"Life + Style\",\"Comedy\",\"Sports\",\"Geek + Gaming\",\"Movies\",\"Geek + Gaming\",\"Movies\",\"Geek + Gaming\",\"Sports\",\"Chill Out\",\"Comedy\",\"Entertainment\",\"Life + Style\",\"Entertainment\",\"Comedy\",\"Entertainment\",\"Geek + Gaming\",\"Chill Out\",\"Sports\",\"Curiosity\",\"News\",\"Chill Out\",\"Geek + Gaming\",\"News\",\"News\",\"News\",\"Life + Style\",\"Entertainment\",\"Life + Style\",\"Movies\",\"Movies\",\"Sports\",\"Entertainment\",\"News\",\"Comedy\",\"Curiosity\",\"Entertainment\",\"News\",\"Chill Out\",\"Sports\",\"Sports\",\"Comedy\",\"Chill Out\",\"News\",\"Life + Style\",\"Movies\",\"Geek + Gaming\",\"Comedy\",\"Comedy\",\"News\",\"Chill Out\",\"Entertainment\",\"Sports\",\"Curiosity\"],\"channel\":[\"4K TV\",\"Action Movies\",\"Adventure TV\",\"After School Cartoons\",\"Anime All Day\",\"Awesomeness TV\",\"Big Sky Conference\",\"Big Sky Conference Live\",\"Big Sky Live 2\",\"Black Cinema\",\"Bloomberg TV\",\"Business News 24/7\",\"CBSN 3\",\"CIF Football\",\"CNBC\",\"CNET\",\"CRACKED\",\"Cats 24/7\",\"Cheddar\",\"Classic Movies Channel\",\"Classic TV\",\"Classic Toons TV\",\"Clevver\",\"Crime Network\",\"DocuTV\",\"DramaFever\",\"Eye Candy\",\"FOX Sports\",\"FailArmy\",\"Fear Factor\",\"Fight\",\"Flicks of Fury\",\"Food TV\",\"FrontDoor\",\"Funny AF\",\"GLORY Kickboxing\",\"Geek & Sundry\",\"Gravitas Movies\",\"Hive\",\"Horror 24/7\",\"IGN\",\"IMPACT Wrestling\",\"Internet Gold\",\"JASH\",\"Kids TV\",\"LittleThings\",\"Live Music Replay\",\"MST3K\",\"Man Up\",\"MinecrafTV\",\"Monstercat TV\",\"Montana\",\"NASA TV\",\"NBC News & MSNBC\",\"NatureVision TV\",\"Nerdist\",\"News 24/7\",\"NewsmaxTV\",\"Newsy\",\"POPSUGAR\",\"Paparazzi TV\",\"PeopleTV\",\"Pluto TV Movies\",\"Pluto TV Movies 2\",\"Pluto TV Sports\",\"REVRY 3\",\"RT America\",\"RiffTrax\",\"Science TV\",\"Shout! Factory TV\",\"Sky News\",\"Slow TV\",\"Sports News\",\"Stadium\",\"Stand-up TV\",\"THC\",\"TYT Network\",\"Tastemade\",\"The Asylum\",\"The Feed\",\"The Gorilla Channel\",\"The Onion\",\"Todays Top Story\",\"Vibes\",\"WHAT?!\",\"World Poker Tour\",\"XiveTV\"],\"color\":[\"green\",\"pink\",\"yellow\",\"black\",\"orange\",\"black\",\"turquoise\",\"turquoise\",\"turquoise\",\"pink\",\"grey\",\"grey\",\"grey\",\"turquoise\",\"grey\",\"orange\",\"blue\",\"blue\",\"grey\",\"pink\",\"black\",\"black\",\"yellow\",\"black\",\"red\",\"black\",\"green\",\"turquoise\",\"blue\",\"black\",\"turquoise\",\"pink\",\"yellow\",\"yellow\",\"blue\",\"turquoise\",\"orange\",\"pink\",\"orange\",\"pink\",\"orange\",\"turquoise\",\"green\",\"blue\",\"black\",\"yellow\",\"black\",\"blue\",\"black\",\"orange\",\"green\",\"turquoise\",\"red\",\"grey\",\"green\",\"orange\",\"grey\",\"grey\",\"grey\",\"yellow\",\"black\",\"yellow\",\"pink\",\"pink\",\"turquoise\",\"black\",\"grey\",\"blue\",\"red\",\"black\",\"grey\",\"green\",\"turquoise\",\"turquoise\",\"blue\",\"green\",\"grey\",\"yellow\",\"pink\",\"orange\",\"blue\",\"blue\",\"grey\",\"green\",\"black\",\"turquoise\",\"red\"],\"x\":{\"__ndarray__\":\"6yPfZMRRB0C6t35qwxgPQNjUOyf4ZxZAMQvIF4kSE0AFeUqQpwQRQHpGJMukZxBAVSizLlavCUAREREREREFQKRBGqRBGgpAr0/Xp+tTEECVze4T4xUUQMJR/X3eJglAAAAAAAAAFEBXG0PTHewHQOAccbTWKw1AKavI0L+0DUBxOBwOh8MPQKxKl8BHvA5AqUh2zFLCCkByio7k8h8LQEH9sXpjoRFAeQ3lNZSXEkAa/CZ6OrcPQPSWIlEL9A5AKz8hzspPEECEOqiDOqgJQMzKfwZM/BVA0oTm2iIoDEDnRN1NTcYSQBiGYRiGYRZAAAAAAIApEEAxCKwcWmQTQBFk+pTIOhRAO+xb4bTDFkAgQZL26RYJQCCZfsdB5RFAfWisD411GkCVdPqbzjAPQCF3/WyxMgpANEvZ5K0+EkBjOovpLKYRQE4MXWfa/RhAlvNnOX+WB0B8ooAQrZMPQJT4GSV+Rg9Ajigw6dQ8CEC69SOCODoIQPnj1uUdcBpAaz88+V8OFEChDuqgDuoQQOACF7jABQZAmqZpmqZpAkDyk6FAgGYHQBoejV+ajxlAObuFX42JBkA/L6rFwmQNQMLv1HoshBJATI/5e23EDkCPdYcxAbYLQB8a60NjfRBAXk7Byyl4BUDnY3A+BucLQDwolZBcAw1ABnsFxo1nDkBlvNca7gsIQJ+hz9Bn6A9AXxgdcmwGEkBTjBr+NsUcQEQsjGZvixJAI+1YgTDSCkAdeAVm2y0OQPAvoyCguQ5AAAAAAACgBEBruPghDHIKQGtYehEnKhNA3jtXJ3soCUB5PB6Px+MOQD3B0RMcPRFAymQymUwmEkAzhnnnuMEJQOFXYyI9UAVARhdddNFFBkAz6RmRLHMQQIPH8l5tkQdAWEh6VOb9EEBZng5PzCEfQNJzYfRcGBdA\",\"dtype\":\"float64\",\"shape\":[87]},\"y\":{\"__ndarray__\":\"JKdztmJgOkBdzzyqPXZBQI3a1T8NSj9AUFNKTUBYQkDj8LvOZJA5QEk6hcdmAzNAyPAJV8awN0BAu4DYVCZJQKi5/Zv0oUhA105qLIMyQUDOnL6oHeI9QHVh+VqHTjZA/RihXA+iLEAClQWL5IVHQOWUo+W15jZAsEhnLAl3OUA8NqeNjNQ3QGWN3eLnKzBAQxmm8xhqOEA2JwvOGHFAQPu5DU8CUj1AZJLpDPFbQEArCqn77QYuQL4ad5sp+EBAMLclbZvePkCSTUG/QYc9QFkA5NJUrCxAVARiSnhENkAP8cQyS6k3QLOWd+za4ENAczU9VAydNkCEK8jZzWVAQLOG0GHJ4ztAJbYS0UGkQ0Ba4lhidK4/QK9ysdq/fT5ALAclQFecOEC2hJmgsdw6QMqxISamgTxAsBFvnzEyQkCCSAvIRjE0QOZLSXUgcz1A3BxOiz2UMUB498VyE405QI7SchlrEkBAaT8buzgWM0C74oWWdGw2QBALdwno+UZASdUXyKl6Q0B7TEoFSaI7QLTd44JW+kZAxOx2GULsSEAsnL8vNgEsQLiH2aP02T9A9A/WSoBBPUDlMroeuU80QJya2l+1TDhA5U10fvRgNkD0cta7BaI0QFE2N8tuzTNAcePtS5q7M0BZKcCfK8QwQIzXbP3M6TxAQRLVTcxVQUC+N1AXy105QBN9hwThYjNAkJU0c2/nOkBAutyWIKhFQBprp2lOukBAQjIqmXEfPECTf5V4Rm80QB8muPcfPD5Amlw57l4uMkB5kNnkPZ40QGEZmcWCUkFAqEEmBd3bNUCPvfGbT502QJt/ZoN5KjNAFep0xBURP0AtIPGWBNhCQGOtvayb1DBAN7vKCAF6LkDoYIkcqAQwQNYu9UMOWyhAkW7fuSi3QUCWkBIE1rxDQJaay0a0MkRA\",\"dtype\":\"float64\",\"shape\":[87]},\"z\":[670,12178,2349,2928,1265,494,603,120,780,7248,655,382,14,309,1711,694,508,1841,606,5000,2051,3040,197,2805,1232,280,6775,3878,4570,3528,2048,6375,2282,1295,2335,2374,392,3509,1212,12163,570,4889,660,605,1932,202,598,2740,3633,350,89,126,507,7416,268,531,8495,1272,1287,343,98,246,29548,8875,515,434,1355,2160,1388,950,1217,502,320,422,2988,1347,1016,620,8128,929,536,264,7904,426,1097,2189,1366],\"zsize\":{\"__ndarray__\":\"cT0K16NwBUBCYOXQIltIQJhuEoPAyiJABoGVQ4tsJ0A+CtejcD0UQARWDi2ynf8/sp3vp8ZLA0C4HoXrUbjeP/YoXI/C9QhAy6FFtvP9PED2KFyPwvUEQKabxCCwcvg/eekmMQisrD8tsp3vp8bzP8dLN4lBYBtAaZHtfD81BkCoxks3iUEAQNv5fmq8dB1AMQisHFpkA0AAAAAAAAA0QJzEILByaCBAUrgehetRKECe76fGSzfpP3E9CtejcCZAg8DKoUW2E0DsUbgehevxP5qZmZmZGTtAoBov3SQGL0BI4XoUrkcyQNNNYhBYOSxA/Knx0k1iIEAAAAAAAIA5QKjGSzeJQSJAuB6F61G4FECuR+F6FK4iQMuhRbbz/SJASgwCK4cW+T/fT42XbhIsQDEIrBxaZBNA+n5qvHRTSEA+CtejcD0CQHWTGARWjjNAH4XrUbgeBUBcj8L1KFwDQLbz/dR46R5AQmDl0CLb6T+JQWDl0CIDQOxRuB6F6yVAqvHSTWIQLUBnZmZmZmb2P2IQWDm0yNY/VOOlm8Qg4D/TTWIQWDkAQESLbOf7qT1A9P3UeOkm8T/LoUW28/0AQD4K16Nw/UBAJzEIrBxaFEBkO99PjZcUQMHKoUW28/U/SgwCK4cW2T+wcmiR7XzvP0A1XrpJjF1AAAAAAADAQUB7FK5H4XoAQC2yne+nxvs/rkfhehSuFUBI4XoUrkchQGmR7Xw/NRZAZ2ZmZmZmDkBGtvP91HgTQKrx0k1iEABAexSuR+F69D81XrpJDAL7P4GVQ4ts5ydAWmQ730+NFUCoxks3iUEQQNejcD0K1wNAqMZLN4lBQEDufD81XroNQPT91HjpJgFATDeJQWDl8D8EVg4tsp0/QN0kBoGVQ/s/WmQ730+NEUBQjZduEoMhQEJg5dAi2xVA\",\"dtype\":\"float64\",\"shape\":[87]}}},\"id\":\"1ee9416e-8548-418f-9e97-8e64c5c6631f\",\"type\":\"ColumnDataSource\"},{\"attributes\":{\"callback\":null},\"id\":\"4259c583-74b4-4ba2-8dad-e207748409b8\",\"type\":\"DataRange1d\"},{\"attributes\":{\"source\":{\"id\":\"1ee9416e-8548-418f-9e97-8e64c5c6631f\",\"type\":\"ColumnDataSource\"}},\"id\":\"c9850f14-9593-49f3-abdc-f3b67b5e8a97\",\"type\":\"CDSView\"}],\"root_ids\":[\"14265dcb-1b82-42fd-b3be-eb9bf33960fe\"]},\"title\":\"Bokeh Application\",\"version\":\"0.12.13\"}};\n",
       "  var render_items = [{\"docid\":\"ce5e35bf-fe37-4774-bb3e-b36e61df36c3\",\"elementid\":\"405308f0-fe78-431f-9cab-492ab4b96fe5\",\"modelid\":\"14265dcb-1b82-42fd-b3be-eb9bf33960fe\"}];\n",
       "  root.Bokeh.embed.embed_items_notebook(docs_json, render_items);\n",
       "\n",
       "  }\n",
       "  if (root.Bokeh !== undefined) {\n",
       "    embed_document(root);\n",
       "  } else {\n",
       "    var attempts = 0;\n",
       "    var timer = setInterval(function(root) {\n",
       "      if (root.Bokeh !== undefined) {\n",
       "        embed_document(root);\n",
       "        clearInterval(timer);\n",
       "      }\n",
       "      attempts++;\n",
       "      if (attempts > 100) {\n",
       "        console.log(\"Bokeh: ERROR: Unable to run BokehJS code because BokehJS library is missing\")\n",
       "        clearInterval(timer);\n",
       "      }\n",
       "    }, 10, root)\n",
       "  }\n",
       "})(window);"
      ],
      "application/vnd.bokehjs_exec.v0+json": ""
     },
     "metadata": {
      "application/vnd.bokehjs_exec.v0+json": {
       "id": "14265dcb-1b82-42fd-b3be-eb9bf33960fe"
      }
     },
     "output_type": "display_data"
    }
   ],
   "source": [
    "p = createViz(gs['Mobile']['mean'], \n",
    "              xcol='sessions', ycol='asd', zcol='users', scale=4e-3,\n",
    "              title='Frequency (x) vs. Average Session Duration (y) vs. Users (z) (Mobile, Mar 2018)',\n",
    "              line_type='quadrant', output_format='html', output_fn='htmls/channel_scatterplot_Mobile_2018-03.html')"
   ]
  },
  {
   "cell_type": "markdown",
   "metadata": {},
   "source": [
    "#### Define createViz"
   ]
  },
  {
   "cell_type": "code",
   "execution_count": 121,
   "metadata": {},
   "outputs": [],
   "source": [
    "def createViz(df, xcol, ycol, zcol, output_format='notebook', title=\"Users vs TVMs\", output_fn=\"users_tvms.html\",\n",
    "              line_type='regression', scale=1e-5):\n",
    "    if output_format == 'notebook':\n",
    "        output_notebook()\n",
    "    elif output_format == 'html':\n",
    "        output_file(output_fn, title=title)\n",
    "    else:\n",
    "        print 'Unknown format'\n",
    "\n",
    "    source_dict = dict()\n",
    "    color_lst = ['green','blue','red','black','orange','yellow','pink','grey','turquoise','brown']\n",
    "    r = lambda: random.randint(0,255)\n",
    "    h = lambda: '#%02X%02X%02X' % (r(),r(),r())\n",
    "    color_lst = [color_lst[i] for i,x in enumerate(df['category'].unique())]\n",
    "    category_lst = sorted(df.category.unique())\n",
    "    color_mapping = {cat:color for cat,color in zip(category_lst, color_lst)}\n",
    "    category_colors = [color_mapping[cat] for cat in df.category]\n",
    "    source = ColumnDataSource(data= dict(\n",
    "                                x=df[xcol],\n",
    "                                y=df[ycol],\n",
    "                                z=df[zcol],\n",
    "                                zsize=df[zcol]*scale,\n",
    "                                channel=df['channel'],\n",
    "                                color=category_colors,\n",
    "                                category=df.category\n",
    "                                )\n",
    "                            )\n",
    "    color_dict = {cat:color for cat,color in zip(sorted(df.category.unique()), color_lst)}\n",
    "\n",
    "    TOOLS = \"pan,wheel_zoom,reset,hover,save\"\n",
    "\n",
    "    p = figure(title=title, tools=TOOLS, plot_width=1000, plot_height=600)\n",
    "    p.scatter(x='x', y='y', size='zsize', source=source, color='color', legend='category')\n",
    "    p.xaxis[0].axis_label = xcol\n",
    "    p.yaxis[0].axis_label = ycol\n",
    "\n",
    "\n",
    "    labels = LabelSet(x='x', y='y', text='channel', level='glyph',\n",
    "                      x_offset=5, y_offset=5, source=source, render_mode='canvas')\n",
    "    p.add_layout(labels)\n",
    "\n",
    "    hover = p.select_one(HoverTool)\n",
    "    hover.point_policy = \"follow_mouse\"\n",
    "    hover.tooltips = [\n",
    "        (\"Channel\", \"@channel\"),\n",
    "        (\"Monthly Frequency\", \"@x{0.0}\"),\n",
    "        (\"Average Session Duration\", \"@y{0,0}\"),\n",
    "        (\"Users\", \"@z{0,0}\")\n",
    "    ]\n",
    "\n",
    "    x_min = 0\n",
    "    y_min = 0\n",
    "    # This code is to determine xmax and ymax, or xmid and ymid\n",
    "    if line_type == 'regression':\n",
    "        n=np.std(df[ycol])/2\n",
    "        x_max = max(df[xcol])\n",
    "        slope, intercept = np.polyfit(df[xcol], df[ycol], 1)\n",
    "        y_max = x_max*slope + intercept\n",
    "        xx = np.array([x_min, x_max])\n",
    "        yy = np.array([y_min, y_max])\n",
    "        p.line(xx, yy, line_width=1, line_color='black')\n",
    "        p.line(xx, yy-n, line_width=0.5, line_color='grey')\n",
    "        p.line(xx, yy+n, line_width=0.5, line_color='grey')\n",
    "    elif line_type == 'quadrant':\n",
    "        x_mid = df[xcol].mean()\n",
    "        y_mid = df[ycol].mean()\n",
    "        x_max = df[xcol].max()\n",
    "        y_max = df[ycol].max()\n",
    "        p.line(np.array([x_mid, x_mid]), np.array([0,y_max*1.2]),line_width=1, line_color='grey')\n",
    "        p.line(np.array([0, x_max*1.2]), np.array([y_mid, y_mid]),line_width=1, line_color='grey')\n",
    "\n",
    "    p.xaxis.bounds = (x_min*0.75, x_max*1.25)\n",
    "    p.yaxis.bounds = (y_min, y_max*1.25)\n",
    "\n",
    "    # legend = Legend(items= [(cat,[scatter_items[cat]]) for cat in df.category.unique()])\n",
    "    legend = Legend()\n",
    "    p.add_layout(legend, 'right')\n",
    "    p.legend.location = \"top_left\"\n",
    "    p.legend.label_text_font_size = '8pt'\n",
    "    p.legend.click_policy=\"hide\"\n",
    "\n",
    "    # We write coffeescript to link toggle with visible property of labels\n",
    "    code = '''\n",
    "    object.visible = toggle.active\n",
    "    '''\n",
    "    callback1 = CustomJS.from_coffeescript(code=code, args={})\n",
    "    toggle1 = Toggle(label=\"Show/Hide Channel Labels\", button_type=\"success\", callback=callback1)\n",
    "    callback1.args = {'toggle': toggle1, 'object': labels}\n",
    "\n",
    "    show(layout([p],[toggle1]))\n",
    "    # handle = show(p, notebook_handle=True)\n",
    "    # return p"
   ]
  },
  {
   "cell_type": "code",
   "execution_count": null,
   "metadata": {},
   "outputs": [],
   "source": []
  }
 ],
 "metadata": {
  "kernelspec": {
   "display_name": "Python 2",
   "language": "python",
   "name": "python2"
  },
  "language_info": {
   "codemirror_mode": {
    "name": "ipython",
    "version": 2
   },
   "file_extension": ".py",
   "mimetype": "text/x-python",
   "name": "python",
   "nbconvert_exporter": "python",
   "pygments_lexer": "ipython2",
   "version": "2.7.14"
  }
 },
 "nbformat": 4,
 "nbformat_minor": 2
}
