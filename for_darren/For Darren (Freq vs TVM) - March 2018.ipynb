{
 "cells": [
  {
   "cell_type": "code",
   "execution_count": 63,
   "metadata": {},
   "outputs": [],
   "source": [
    "import tvm_users_scatter as tus\n",
    "from ipywidgets import interact, interactive, fixed, interact_manual, widgets\n",
    "import pandas as pd\n",
    "import numpy as np\n",
    "import matplotlib.pyplot as plt\n",
    "from sklearn.linear_model import LinearRegression\n",
    "from bokeh.layouts import layout\n",
    "from bokeh.io import push_notebook\n",
    "from bokeh.plotting import figure, show, output_file, output_notebook\n",
    "from bokeh.models import ColumnDataSource, Range1d, LabelSet, Label, HoverTool, PrintfTickFormatter,NumeralTickFormatter, Legend, Toggle, BoxAnnotation, CustomJS\n",
    "# import psycopg2\n",
    "from datetime import datetime,timedelta"
   ]
  },
  {
   "cell_type": "code",
   "execution_count": 172,
   "metadata": {},
   "outputs": [],
   "source": [
    "df = pd.read_csv('data/2018/channel_user_tvm_sessions_by_PT_2018-03.csv')\n",
    "# df = tus.cleanDF(df)"
   ]
  },
  {
   "cell_type": "code",
   "execution_count": 173,
   "metadata": {},
   "outputs": [
    {
     "data": {
      "text/html": [
       "<div>\n",
       "<style scoped>\n",
       "    .dataframe tbody tr th:only-of-type {\n",
       "        vertical-align: middle;\n",
       "    }\n",
       "\n",
       "    .dataframe tbody tr th {\n",
       "        vertical-align: top;\n",
       "    }\n",
       "\n",
       "    .dataframe thead th {\n",
       "        text-align: right;\n",
       "    }\n",
       "</style>\n",
       "<table border=\"1\" class=\"dataframe\">\n",
       "  <thead>\n",
       "    <tr style=\"text-align: right;\">\n",
       "      <th></th>\n",
       "      <th>platform_type</th>\n",
       "      <th>anon_user_id</th>\n",
       "      <th>name</th>\n",
       "      <th>tvm</th>\n",
       "      <th>sessions</th>\n",
       "    </tr>\n",
       "  </thead>\n",
       "  <tbody>\n",
       "    <tr>\n",
       "      <th>0</th>\n",
       "      <td>CTV</td>\n",
       "      <td>e87065f8-2166-405d-947a-0c1a5aba12d3_d5a6f9c76...</td>\n",
       "      <td>Flicks of Fury</td>\n",
       "      <td>872</td>\n",
       "      <td>2</td>\n",
       "    </tr>\n",
       "    <tr>\n",
       "      <th>1</th>\n",
       "      <td>CTV</td>\n",
       "      <td>ROKU-YN00WX009869</td>\n",
       "      <td>Stand-up TV</td>\n",
       "      <td>199</td>\n",
       "      <td>3</td>\n",
       "    </tr>\n",
       "    <tr>\n",
       "      <th>2</th>\n",
       "      <td>CTV</td>\n",
       "      <td>ROKU-YW00CU314789</td>\n",
       "      <td>Adventure TV</td>\n",
       "      <td>531</td>\n",
       "      <td>11</td>\n",
       "    </tr>\n",
       "    <tr>\n",
       "      <th>3</th>\n",
       "      <td>CTV</td>\n",
       "      <td>46067e6b-de7e-43a6-b139-5b3fad10420c_5754ea96a...</td>\n",
       "      <td>Awesomeness TV</td>\n",
       "      <td>2699</td>\n",
       "      <td>14</td>\n",
       "    </tr>\n",
       "    <tr>\n",
       "      <th>4</th>\n",
       "      <td>CTV</td>\n",
       "      <td>ROKU-1GN38D081442</td>\n",
       "      <td>IGN</td>\n",
       "      <td>859</td>\n",
       "      <td>27</td>\n",
       "    </tr>\n",
       "  </tbody>\n",
       "</table>\n",
       "</div>"
      ],
      "text/plain": [
       "  platform_type                                       anon_user_id  \\\n",
       "0           CTV  e87065f8-2166-405d-947a-0c1a5aba12d3_d5a6f9c76...   \n",
       "1           CTV                                  ROKU-YN00WX009869   \n",
       "2           CTV                                  ROKU-YW00CU314789   \n",
       "3           CTV  46067e6b-de7e-43a6-b139-5b3fad10420c_5754ea96a...   \n",
       "4           CTV                                  ROKU-1GN38D081442   \n",
       "\n",
       "             name   tvm  sessions  \n",
       "0  Flicks of Fury   872         2  \n",
       "1     Stand-up TV   199         3  \n",
       "2    Adventure TV   531        11  \n",
       "3  Awesomeness TV  2699        14  \n",
       "4             IGN   859        27  "
      ]
     },
     "execution_count": 173,
     "metadata": {},
     "output_type": "execute_result"
    }
   ],
   "source": [
    "df.head()"
   ]
  },
  {
   "cell_type": "code",
   "execution_count": 174,
   "metadata": {},
   "outputs": [
    {
     "data": {
      "text/plain": [
       "CTV       1117200\n",
       "Mobile     235882\n",
       "Name: platform_type, dtype: int64"
      ]
     },
     "execution_count": 174,
     "metadata": {},
     "output_type": "execute_result"
    }
   ],
   "source": [
    "df['platform_type'].value_counts()"
   ]
  },
  {
   "cell_type": "code",
   "execution_count": 175,
   "metadata": {},
   "outputs": [],
   "source": [
    "df.columns = ['platform_type','anon_user_id','Channel','TVM','Frequency']"
   ]
  },
  {
   "cell_type": "code",
   "execution_count": 176,
   "metadata": {},
   "outputs": [],
   "source": [
    "df['Average Session Duration'] = df['TVM'] / df['Frequency']"
   ]
  },
  {
   "cell_type": "code",
   "execution_count": 177,
   "metadata": {},
   "outputs": [],
   "source": [
    "dfs = {}\n",
    "platform_types = ['CTV','Mobile']\n",
    "for pt in platform_types:\n",
    "    dfs[pt] = df[df['platform_type']==pt].reset_index(drop=True)"
   ]
  },
  {
   "cell_type": "code",
   "execution_count": 178,
   "metadata": {},
   "outputs": [],
   "source": [
    "# Remove upper outliers\n",
    "for pt in platform_types:\n",
    "    dfs[pt][dfs[pt]['TVM']<np.percentile(dfs[pt]['TVM'],99)].reset_index(drop=True, inplace=True)\n",
    "    dfs[pt][dfs[pt]['Frequency']<np.percentile(dfs[pt]['Frequency'],99)].reset_index(drop=True, inplace=True)"
   ]
  },
  {
   "cell_type": "code",
   "execution_count": 186,
   "metadata": {},
   "outputs": [],
   "source": [
    "gs = {pt:{} for pt in platform_types}\n",
    "for pt in platform_types:\n",
    "    gs[pt]['mean'] = dfs[pt].groupby('Channel').mean().reset_index()\n",
    "    gs[pt]['counts'] = dfs[pt].groupby('Channel').count().reset_index().iloc[:,:2]\n",
    "    gs[pt]['counts'].columns = ['Channel','users']"
   ]
  },
  {
   "cell_type": "code",
   "execution_count": 187,
   "metadata": {},
   "outputs": [],
   "source": [
    "channels = pd.read_csv('data/2018/pluto_channels.csv')"
   ]
  },
  {
   "cell_type": "code",
   "execution_count": 188,
   "metadata": {},
   "outputs": [],
   "source": [
    "for pt in platform_types:\n",
    "    gs[pt]['mean'] = gs[pt]['mean'].merge(channels, left_on='Channel',right_on='name')\n",
    "    gs[pt]['mean'] = gs[pt]['mean'].merge(gs[pt]['counts'], left_on='Channel',right_on='Channel')"
   ]
  },
  {
   "cell_type": "code",
   "execution_count": 191,
   "metadata": {},
   "outputs": [],
   "source": [
    "min_users = 300\n",
    "bad_cats = ['Music + Radio','Pluto']\n",
    "\n",
    "for pt in platform_types:\n",
    "    bad_channels = gs[pt]['counts'][gs[pt]['counts']['users']<min_users]['Channel']\n",
    "    gs[pt]['mean'] = gs[pt]['mean'][np.invert(gs[pt]['mean']['category'].isin(bad_cats))]\n",
    "    gs[pt]['mean'] = gs[pt]['mean'][np.invert(gs[pt]['mean']['Channel'].isin(bad_channels))]"
   ]
  },
  {
   "cell_type": "code",
   "execution_count": 192,
   "metadata": {},
   "outputs": [],
   "source": [
    "# Final grooming\n",
    "gs['Mobile']['mean'] = gs['Mobile']['mean'][gs['Mobile']['mean']['Channel']!='CBSN 3']"
   ]
  },
  {
   "cell_type": "markdown",
   "metadata": {},
   "source": [
    "#### CTV"
   ]
  },
  {
   "cell_type": "code",
   "execution_count": 195,
   "metadata": {
    "scrolled": false
   },
   "outputs": [
    {
     "data": {
      "text/html": [
       "\n",
       "<div class=\"bk-root\">\n",
       "    <div class=\"bk-plotdiv\" id=\"e56c1a9e-8541-4caa-ba08-c06a97b9869d\"></div>\n",
       "</div>"
      ]
     },
     "metadata": {},
     "output_type": "display_data"
    },
    {
     "data": {
      "application/javascript": [
       "(function(root) {\n",
       "  function embed_document(root) {\n",
       "    \n",
       "  var docs_json = {\"e285da6c-97b5-49b6-89a3-740197a7ee94\":{\"roots\":{\"references\":[{\"attributes\":{\"data_source\":{\"id\":\"5a41eb93-d65d-4f29-b832-11ffb26beb70\",\"type\":\"ColumnDataSource\"},\"glyph\":{\"id\":\"fb817f7d-9500-487d-b02f-d1e1b83d9740\",\"type\":\"Circle\"},\"hover_glyph\":null,\"muted_glyph\":null,\"nonselection_glyph\":{\"id\":\"97131fa6-c6a0-4056-bbd3-6169cf1d63a0\",\"type\":\"Circle\"},\"selection_glyph\":null,\"view\":{\"id\":\"0e18693a-689b-4df4-a270-9565e0350d65\",\"type\":\"CDSView\"}},\"id\":\"4a15eca1-5db8-4bb3-8753-37658cba15bd\",\"type\":\"GlyphRenderer\"},{\"attributes\":{\"plot\":null,\"text\":\"Frequency (x) vs. Average Session Duration (y) vs. Users (z) (CTV, Mar 2018)\"},\"id\":\"9c640dc3-0fd5-4e7f-b430-b1a091952ce7\",\"type\":\"Title\"},{\"attributes\":{\"fill_color\":{\"field\":\"color\"},\"line_color\":{\"field\":\"color\"},\"size\":{\"field\":\"zsize\",\"units\":\"screen\"},\"x\":{\"field\":\"x\"},\"y\":{\"field\":\"y\"}},\"id\":\"fb817f7d-9500-487d-b02f-d1e1b83d9740\",\"type\":\"Circle\"},{\"attributes\":{\"plot\":{\"id\":\"4b7826dc-a829-4fd4-a01f-dc1adcc30873\",\"subtype\":\"Figure\",\"type\":\"Plot\"},\"ticker\":{\"id\":\"01ae3c9a-8c5f-4c9e-9c35-c39985d2287e\",\"type\":\"BasicTicker\"}},\"id\":\"66e079bf-6480-40a9-a73f-c0ba123a3659\",\"type\":\"Grid\"},{\"attributes\":{},\"id\":\"f98f4337-115e-4fa1-92d2-e5d1883bec51\",\"type\":\"SaveTool\"},{\"attributes\":{\"line_alpha\":0.1,\"line_color\":\"#1f77b4\",\"x\":{\"field\":\"x\"},\"y\":{\"field\":\"y\"}},\"id\":\"846996b9-8290-4d50-acc3-44116b582bc3\",\"type\":\"Line\"},{\"attributes\":{\"line_color\":\"grey\",\"x\":{\"field\":\"x\"},\"y\":{\"field\":\"y\"}},\"id\":\"cd0c36c8-382d-45ee-a63c-939ad9fa4415\",\"type\":\"Line\"},{\"attributes\":{\"fill_alpha\":{\"value\":0.1},\"fill_color\":{\"value\":\"#1f77b4\"},\"line_alpha\":{\"value\":0.1},\"line_color\":{\"value\":\"#1f77b4\"},\"size\":{\"field\":\"zsize\",\"units\":\"screen\"},\"x\":{\"field\":\"x\"},\"y\":{\"field\":\"y\"}},\"id\":\"97131fa6-c6a0-4056-bbd3-6169cf1d63a0\",\"type\":\"Circle\"},{\"attributes\":{\"axis_label\":\"Frequency\",\"bounds\":[0.0,10.121229744906143],\"formatter\":{\"id\":\"29f388f4-1a1b-432f-b7a4-abf86ec788eb\",\"type\":\"BasicTickFormatter\"},\"plot\":{\"id\":\"4b7826dc-a829-4fd4-a01f-dc1adcc30873\",\"subtype\":\"Figure\",\"type\":\"Plot\"},\"ticker\":{\"id\":\"01ae3c9a-8c5f-4c9e-9c35-c39985d2287e\",\"type\":\"BasicTicker\"}},\"id\":\"8e639023-f9a1-444c-91d2-b81ec6338741\",\"type\":\"LinearAxis\"},{\"attributes\":{\"button_type\":\"success\",\"callback\":{\"id\":\"6b01d0af-3ca0-4d5b-b6e8-fcd3ac5e2864\",\"type\":\"CustomJS\"},\"icon\":null,\"label\":\"Show/Hide Channel Labels\"},\"id\":\"f9b0e4df-2d70-4baa-831b-f54c3e29ac4c\",\"type\":\"Toggle\"},{\"attributes\":{},\"id\":\"e356c7a3-6673-4320-835d-d72764e252ef\",\"type\":\"LinearScale\"},{\"attributes\":{\"children\":[{\"id\":\"f9b0e4df-2d70-4baa-831b-f54c3e29ac4c\",\"type\":\"Toggle\"}]},\"id\":\"b7031cb5-8b2b-4f40-adc6-2573e362faef\",\"type\":\"WidgetBox\"},{\"attributes\":{\"source\":{\"id\":\"5a41eb93-d65d-4f29-b832-11ffb26beb70\",\"type\":\"ColumnDataSource\"}},\"id\":\"0e18693a-689b-4df4-a270-9565e0350d65\",\"type\":\"CDSView\"},{\"attributes\":{\"callback\":null,\"column_names\":[\"y\",\"x\"],\"data\":{\"x\":{\"__ndarray__\":\"AAAAAAAAAADrX59uyW4jQA==\",\"dtype\":\"float64\",\"shape\":[2]},\"y\":{\"__ndarray__\":\"eue+AzOmXkB6574DM6ZeQA==\",\"dtype\":\"float64\",\"shape\":[2]}}},\"id\":\"c73eed8b-07fa-4184-924d-74b2ed08ed29\",\"type\":\"ColumnDataSource\"},{\"attributes\":{\"active_drag\":\"auto\",\"active_inspect\":\"auto\",\"active_scroll\":\"auto\",\"active_tap\":\"auto\",\"tools\":[{\"id\":\"d95a8d82-408a-455c-993d-f4850582fad6\",\"type\":\"PanTool\"},{\"id\":\"3a5bf6e2-3f77-451f-b0a5-55f6cacd2ebc\",\"type\":\"WheelZoomTool\"},{\"id\":\"2054d7d9-e110-4822-9442-21ae67c670ba\",\"type\":\"ResetTool\"},{\"id\":\"6a86b816-732f-415c-bd52-66755e3c4776\",\"type\":\"HoverTool\"},{\"id\":\"f98f4337-115e-4fa1-92d2-e5d1883bec51\",\"type\":\"SaveTool\"}]},\"id\":\"1abecb5a-9876-43ad-a881-958078408f4c\",\"type\":\"Toolbar\"},{\"attributes\":{},\"id\":\"2054d7d9-e110-4822-9442-21ae67c670ba\",\"type\":\"ResetTool\"},{\"attributes\":{},\"id\":\"d95a8d82-408a-455c-993d-f4850582fad6\",\"type\":\"PanTool\"},{\"attributes\":{},\"id\":\"01ae3c9a-8c5f-4c9e-9c35-c39985d2287e\",\"type\":\"BasicTicker\"},{\"attributes\":{\"args\":{\"object\":{\"id\":\"d44dddaa-3bbc-4217-a947-d4d7c8bd50eb\",\"type\":\"LabelSet\"},\"toggle\":{\"id\":\"f9b0e4df-2d70-4baa-831b-f54c3e29ac4c\",\"type\":\"Toggle\"}},\"code\":\"object.visible = toggle.active;\\n\"},\"id\":\"6b01d0af-3ca0-4d5b-b6e8-fcd3ac5e2864\",\"type\":\"CustomJS\"},{\"attributes\":{\"line_color\":\"grey\",\"x\":{\"field\":\"x\"},\"y\":{\"field\":\"y\"}},\"id\":\"e3120928-39cb-4dc3-857b-ebc73d4669a2\",\"type\":\"Line\"},{\"attributes\":{\"callback\":null,\"column_names\":[\"y\",\"x\"],\"data\":{\"x\":{\"__ndarray__\":\"RWF0AnR3EEBFYXQCdHcQQA==\",\"dtype\":\"float64\",\"shape\":[2]},\"y\":{\"__ndarray__\":\"AAAAAAAAAAD8UJAlPdVsQA==\",\"dtype\":\"float64\",\"shape\":[2]}}},\"id\":\"1efdca5a-3d3c-44ed-8a20-868a79bf9c4a\",\"type\":\"ColumnDataSource\"},{\"attributes\":{},\"id\":\"cc362ac9-05c8-4a23-b3f5-ef9011a623f3\",\"type\":\"BasicTickFormatter\"},{\"attributes\":{\"dimension\":1,\"plot\":{\"id\":\"4b7826dc-a829-4fd4-a01f-dc1adcc30873\",\"subtype\":\"Figure\",\"type\":\"Plot\"},\"ticker\":{\"id\":\"aaaba172-c0e6-44ff-9564-bf2e15532d84\",\"type\":\"BasicTicker\"}},\"id\":\"7edd921b-c0a3-4e01-b3ef-feb84d47754c\",\"type\":\"Grid\"},{\"attributes\":{\"children\":[{\"id\":\"4b7826dc-a829-4fd4-a01f-dc1adcc30873\",\"subtype\":\"Figure\",\"type\":\"Plot\"}]},\"id\":\"82b9c352-40e6-4b30-9651-978f13fd10fe\",\"type\":\"Row\"},{\"attributes\":{\"source\":{\"id\":\"c73eed8b-07fa-4184-924d-74b2ed08ed29\",\"type\":\"ColumnDataSource\"}},\"id\":\"f2ea765c-86fe-4000-ab1a-40367880f9e5\",\"type\":\"CDSView\"},{\"attributes\":{\"data_source\":{\"id\":\"1efdca5a-3d3c-44ed-8a20-868a79bf9c4a\",\"type\":\"ColumnDataSource\"},\"glyph\":{\"id\":\"cd0c36c8-382d-45ee-a63c-939ad9fa4415\",\"type\":\"Line\"},\"hover_glyph\":null,\"muted_glyph\":null,\"nonselection_glyph\":{\"id\":\"70bc5f58-e227-47f3-923b-b02730d368a5\",\"type\":\"Line\"},\"selection_glyph\":null,\"view\":{\"id\":\"9f56f89c-bda7-4262-966c-b59a441aa70e\",\"type\":\"CDSView\"}},\"id\":\"00aa15b6-a152-4c34-9323-eee79b008484\",\"type\":\"GlyphRenderer\"},{\"attributes\":{\"axis_label\":\"Average Session Duration\",\"bounds\":[0,240.27470229254948],\"formatter\":{\"id\":\"cc362ac9-05c8-4a23-b3f5-ef9011a623f3\",\"type\":\"BasicTickFormatter\"},\"plot\":{\"id\":\"4b7826dc-a829-4fd4-a01f-dc1adcc30873\",\"subtype\":\"Figure\",\"type\":\"Plot\"},\"ticker\":{\"id\":\"aaaba172-c0e6-44ff-9564-bf2e15532d84\",\"type\":\"BasicTicker\"}},\"id\":\"33fa0aa6-dd6c-409c-908c-889c4f2c1f00\",\"type\":\"LinearAxis\"},{\"attributes\":{},\"id\":\"aaaba172-c0e6-44ff-9564-bf2e15532d84\",\"type\":\"BasicTicker\"},{\"attributes\":{\"label\":{\"field\":\"category\"},\"renderers\":[{\"id\":\"4a15eca1-5db8-4bb3-8753-37658cba15bd\",\"type\":\"GlyphRenderer\"}]},\"id\":\"2cf69923-3ca5-4c90-a63f-9cb5dcd47886\",\"type\":\"LegendItem\"},{\"attributes\":{\"click_policy\":\"hide\",\"items\":[{\"id\":\"2cf69923-3ca5-4c90-a63f-9cb5dcd47886\",\"type\":\"LegendItem\"}],\"label_text_font_size\":{\"value\":\"8pt\"},\"location\":\"top_left\",\"plot\":{\"id\":\"4b7826dc-a829-4fd4-a01f-dc1adcc30873\",\"subtype\":\"Figure\",\"type\":\"Plot\"}},\"id\":\"776b099a-8fc7-4d10-aa3b-0c1485eed504\",\"type\":\"Legend\"},{\"attributes\":{\"source\":{\"id\":\"1efdca5a-3d3c-44ed-8a20-868a79bf9c4a\",\"type\":\"ColumnDataSource\"}},\"id\":\"9f56f89c-bda7-4262-966c-b59a441aa70e\",\"type\":\"CDSView\"},{\"attributes\":{\"line_alpha\":0.1,\"line_color\":\"#1f77b4\",\"x\":{\"field\":\"x\"},\"y\":{\"field\":\"y\"}},\"id\":\"70bc5f58-e227-47f3-923b-b02730d368a5\",\"type\":\"Line\"},{\"attributes\":{\"below\":[{\"id\":\"8e639023-f9a1-444c-91d2-b81ec6338741\",\"type\":\"LinearAxis\"}],\"left\":[{\"id\":\"33fa0aa6-dd6c-409c-908c-889c4f2c1f00\",\"type\":\"LinearAxis\"}],\"plot_width\":1000,\"renderers\":[{\"id\":\"8e639023-f9a1-444c-91d2-b81ec6338741\",\"type\":\"LinearAxis\"},{\"id\":\"66e079bf-6480-40a9-a73f-c0ba123a3659\",\"type\":\"Grid\"},{\"id\":\"33fa0aa6-dd6c-409c-908c-889c4f2c1f00\",\"type\":\"LinearAxis\"},{\"id\":\"7edd921b-c0a3-4e01-b3ef-feb84d47754c\",\"type\":\"Grid\"},{\"id\":\"776b099a-8fc7-4d10-aa3b-0c1485eed504\",\"type\":\"Legend\"},{\"id\":\"4a15eca1-5db8-4bb3-8753-37658cba15bd\",\"type\":\"GlyphRenderer\"},{\"id\":\"d44dddaa-3bbc-4217-a947-d4d7c8bd50eb\",\"type\":\"LabelSet\"},{\"id\":\"00aa15b6-a152-4c34-9323-eee79b008484\",\"type\":\"GlyphRenderer\"},{\"id\":\"5999bb56-c169-45eb-82a2-ded949f0a819\",\"type\":\"GlyphRenderer\"},{\"id\":\"c860e125-b203-48e7-94fe-626ea5f2c682\",\"type\":\"Legend\"}],\"right\":[{\"id\":\"c860e125-b203-48e7-94fe-626ea5f2c682\",\"type\":\"Legend\"}],\"title\":{\"id\":\"9c640dc3-0fd5-4e7f-b430-b1a091952ce7\",\"type\":\"Title\"},\"toolbar\":{\"id\":\"1abecb5a-9876-43ad-a881-958078408f4c\",\"type\":\"Toolbar\"},\"x_range\":{\"id\":\"0ec03966-5963-44ae-9470-3db7f07a5094\",\"type\":\"DataRange1d\"},\"x_scale\":{\"id\":\"f97bcb7b-e705-4341-823c-a5e7b830a38c\",\"type\":\"LinearScale\"},\"y_range\":{\"id\":\"af5e1b0b-518d-41f9-9e8b-6ea30179357c\",\"type\":\"DataRange1d\"},\"y_scale\":{\"id\":\"e356c7a3-6673-4320-835d-d72764e252ef\",\"type\":\"LinearScale\"}},\"id\":\"4b7826dc-a829-4fd4-a01f-dc1adcc30873\",\"subtype\":\"Figure\",\"type\":\"Plot\"},{\"attributes\":{\"callback\":null},\"id\":\"0ec03966-5963-44ae-9470-3db7f07a5094\",\"type\":\"DataRange1d\"},{\"attributes\":{\"callback\":null,\"column_names\":[\"category\",\"zsize\",\"y\",\"color\",\"x\",\"z\",\"channel\"],\"data\":{\"category\":[\"Chill Out\",\"Movies\",\"Life + Style\",\"Entertainment\",\"Geek + Gaming\",\"Entertainment\",\"Sports\",\"Sports\",\"Sports\",\"Movies\",\"News\",\"News\",\"News\",\"Sports\",\"News\",\"Geek + Gaming\",\"Comedy\",\"Comedy\",\"News\",\"Movies\",\"Entertainment\",\"Entertainment\",\"Life + Style\",\"Entertainment\",\"Curiosity\",\"Entertainment\",\"Chill Out\",\"Sports\",\"Comedy\",\"Entertainment\",\"Sports\",\"Movies\",\"Life + Style\",\"Life + Style\",\"Comedy\",\"Sports\",\"Geek + Gaming\",\"Movies\",\"Geek + Gaming\",\"Movies\",\"Geek + Gaming\",\"Sports\",\"Chill Out\",\"Comedy\",\"Entertainment\",\"Life + Style\",\"Entertainment\",\"Comedy\",\"Entertainment\",\"Geek + Gaming\",\"Chill Out\",\"Curiosity\",\"News\",\"Chill Out\",\"Geek + Gaming\",\"News\",\"News\",\"News\",\"Life + Style\",\"Entertainment\",\"Life + Style\",\"Movies\",\"Movies\",\"Sports\",\"Entertainment\",\"News\",\"Comedy\",\"Curiosity\",\"Entertainment\",\"News\",\"Chill Out\",\"Sports\",\"Sports\",\"Comedy\",\"Chill Out\",\"News\",\"Life + Style\",\"Movies\",\"Geek + Gaming\",\"Comedy\",\"Comedy\",\"News\",\"Chill Out\",\"Entertainment\",\"Sports\",\"Curiosity\"],\"channel\":[\"4K TV\",\"Action Movies\",\"Adventure TV\",\"After School Cartoons\",\"Anime All Day\",\"Awesomeness TV\",\"Big Sky Conference\",\"Big Sky Conference Live\",\"Big Sky Live 2\",\"Black Cinema\",\"Bloomberg TV\",\"Business News 24/7\",\"CBSN 3\",\"CIF Football\",\"CNBC\",\"CNET\",\"CRACKED\",\"Cats 24/7\",\"Cheddar\",\"Classic Movies Channel\",\"Classic TV\",\"Classic Toons TV\",\"Clevver\",\"Crime Network\",\"DocuTV\",\"DramaFever\",\"Eye Candy\",\"FOX Sports\",\"FailArmy\",\"Fear Factor\",\"Fight\",\"Flicks of Fury\",\"Food TV\",\"FrontDoor\",\"Funny AF\",\"GLORY Kickboxing\",\"Geek & Sundry\",\"Gravitas Movies\",\"Hive\",\"Horror 24/7\",\"IGN\",\"IMPACT Wrestling\",\"Internet Gold\",\"JASH\",\"Kids TV\",\"LittleThings\",\"Live Music Replay\",\"MST3K\",\"Man Up\",\"MinecrafTV\",\"Monstercat TV\",\"NASA TV\",\"NBC News & MSNBC\",\"NatureVision TV\",\"Nerdist\",\"News 24/7\",\"NewsmaxTV\",\"Newsy\",\"POPSUGAR\",\"Paparazzi TV\",\"PeopleTV\",\"Pluto TV Movies\",\"Pluto TV Movies 2\",\"Pluto TV Sports\",\"REVRY 3\",\"RT America\",\"RiffTrax\",\"Science TV\",\"Shout! Factory TV\",\"Sky News\",\"Slow TV\",\"Sports News\",\"Stadium\",\"Stand-up TV\",\"THC\",\"TYT Network\",\"Tastemade\",\"The Asylum\",\"The Feed\",\"The Gorilla Channel\",\"The Onion\",\"Todays Top Story\",\"Vibes\",\"WHAT?!\",\"World Poker Tour\",\"XiveTV\"],\"color\":[\"green\",\"pink\",\"yellow\",\"black\",\"orange\",\"black\",\"turquoise\",\"turquoise\",\"turquoise\",\"pink\",\"grey\",\"grey\",\"grey\",\"turquoise\",\"grey\",\"orange\",\"blue\",\"blue\",\"grey\",\"pink\",\"black\",\"black\",\"yellow\",\"black\",\"red\",\"black\",\"green\",\"turquoise\",\"blue\",\"black\",\"turquoise\",\"pink\",\"yellow\",\"yellow\",\"blue\",\"turquoise\",\"orange\",\"pink\",\"orange\",\"pink\",\"orange\",\"turquoise\",\"green\",\"blue\",\"black\",\"yellow\",\"black\",\"blue\",\"black\",\"orange\",\"green\",\"red\",\"grey\",\"green\",\"orange\",\"grey\",\"grey\",\"grey\",\"yellow\",\"black\",\"yellow\",\"pink\",\"pink\",\"turquoise\",\"black\",\"grey\",\"blue\",\"red\",\"black\",\"grey\",\"green\",\"turquoise\",\"turquoise\",\"blue\",\"green\",\"grey\",\"yellow\",\"pink\",\"orange\",\"blue\",\"blue\",\"grey\",\"green\",\"black\",\"turquoise\",\"red\"],\"x\":{\"__ndarray__\":\"x6ADhkYdC0Cq4VY+sikNQFuJyLnDJhNAUv18WQToEkDQKPEzSnwVQJEulA6a+AtA1wiyaS37C0ApBnDljGIIQNnY2NjY2AlAeXF8/HovD0BPHgOgst0TQCWg3uW9jAhA+BUGmUTFG0CIHPREo+YHQAahxow0QRBAzEFV1iErDkCR62ZbKu4PQNcq3RM5pA9ADHy6wKcLDEAoAWMruTMKQCzgFgw7ARFAhUP0iOXREUDoJYLpVPANQBp98J95dwlAkR+yk/jYCkA7gL6psAMMQPLYcGRLjRVAc2yRQ+OzDkB0L6kuQlsVQODUbcCLeRVA6gM4vegOEUCc9GfrOz0SQJrMKVlPZhFADHbAnkBIGUAjY2Nt1CkIQOXGBF5dFhRA5TWU11BeF0CgDasGM/AMQJIV5OfT/AdAaETV+A9gEkBh3un3QQ4TQD0XBpdc8RlA67GyfKUSB0AbBB9PiA4QQCDngANaHBBANmu1z95ZBkDAsOO8S10IQOggiGtB9htAXDXftOcwDUCZ0KzeeiUWQNK00SIY5QtAgIjABR8gB0Ajb9Gy3GscQNbE9dGwmwxA4V8bZS0+DEBNLRfu6pMSQL4QPfhuchJAhKftRzquDUAuo1fRcFMQQDXa8/IEnQNAWIsBmeiOB0BFQ7CHU00OQJYIeJEWbw1A/b5GiqWgCUCN1G9nkb8MQNznAS8yKxZATv5vL8DPHkBDm33st3UOQEiPWMo/5QhALChHdMk6EUDntelwFiQSQFKU2+CeVwZAgyxHuXw4CkCDNEiDNAgQQNN+gVuuFAlAtRG+QW2ED0C0qNdd68cPQA/u7eOnrhFA36Ama/zJB0D75+h48awEQBg4KDAsLgVA2Rz05a2rD0DTJm/F4MAIQOMfZTnpAAtAmXov3KcxIEDM9RCX+oISQA==\",\"dtype\":\"float64\",\"shape\":[86]},\"y\":{\"__ndarray__\":\"WPRxYGToWUBdzuyZDlZiQCzPNSOpNWJAoPZxpUMcZEAw91ZZHGlfQD4ebOes4llAT7NP+4WCYkBNA4edw35lQHgViLFIZl9APfirIEdZYUDwykahL/tcQJ6NCG6eVFxAAVjh6cABYEA7e/A7SihcQG8L1J+egV9AvH4WsWNSW0CygfszgA1ZQHeYR9oMR1lAzkDH5nzIXUCD+wXPHtdgQE6UvI6+BVpAl+xaEVqlYUBR88A5e8thQG7PG0WtdGBACuKFc+6LYEA6AenUtr1eQHvOxr7e6EdAtI+VQGMVXUCvIrgAMmVeQEO2Fg1MbWdAt7LOuarPXEA6HsN28t9gQE4du6oDImBA9+QBcGgNZUBbiqy6diNgQIoCYYD0BGBA7cjbDOweW0C/8MBNs2tcQCTOJkddUVtAUON87+4EYkBuRjvWoy1XQELW6xVjXF9AcPqYIGP8VECng7N6H31YQL1oKPI//GJA/2oEY8CrWEAFBUC7blFgQHGofow98WNAfUP4SQgHaEBqovw9z2ZjQGLkdHUU0WFA/ASACDX5VkDXoZ1+yS1iQADLUmLxuVZAUuS21rFVVkCIsmH+E+5cQMOi0sjeWVFAVU1dv4zyUEAAelkn+VlfQBnAODkLamVAcGq4SrwjYECMZrdmYnJlQFeLDYpnuWJAH5S8ttpRXEB0uYZA3ClYQAbYOaWcTFFAU2NzJ64jYUCbphpkydtfQKD+FedwblxALBE4kMi1UECX2IgzqyBgQFQyRGM58V9A8xewyjNVV0DINXxlC/JeQFR/l42wSFZAaeGlVSfYVkBH4iqgfUlfQBtHDbdwx15A8LeX554VZUDlay2nit9YQNmyafoWe1tAsuIpTUSVU0A/bvBAdTVYQCyKyQ6u+2BAqVWuk8RxZkB3iOAl7oNhQA==\",\"dtype\":\"float64\",\"shape\":[86]},\"z\":[9173,34339,35919,12713,4968,2353,1911,665,680,23896,5254,1979,49847,323,8496,5591,3445,15375,3075,21035,10609,10950,2026,12147,25417,1110,21769,13363,29034,20586,7847,18696,14215,16100,12338,9432,3002,14128,6456,40006,3609,15005,5272,3805,9499,1373,5905,20912,49886,3019,647,3961,31908,3453,3722,31104,7982,9154,2074,569,2155,87070,31251,3662,2074,8060,14506,8503,6718,8692,5065,970,2266,10608,8046,5436,3871,35531,28020,4423,1935,19382,2697,6744,12466,11215],\"zsize\":{\"__ndarray__\":\"mN2Th4VaHUAN4C2QoHg7QOsENBE2vDxAEHo2qz5XJEB6xyk6kssPQK7YX3ZPHv4/L/8h/fZ1+D+gGi/dJAbhP5zEILByaOE/PSzUmuYdM0BVMCqpE9AQQGpv8IXJVPk/HHxhMlXwQ0BhVFInoInQP6vP1VbsLxtA+THmriXkEUBANV66SQwGQJqZmZmZmShArkfhehSuA0CHFtnO99MwQO84RUdy+SBAhetRuB6FIUB0tRX7y+75Px44Z0RpbyNAE/JBz2ZVNEDRItv5fmrsP5lMFYxKajFAGlHaG3xhJUC1pnnHKTo3QGRd3EYDeDBAeXqlLEMcGUAooImw4ektQFg5tMh2viZAw/UoXI/CKUB24JwRpb0jQFjKMsSxLh5AvJaQD3o2A0Dtnjws1JomQPGFyVTBqBRAqoJRSZ0AQEDwFkhQ/BgHQDZeukkMAihAO3DOiNLeEEAnMQisHFoIQIUNT6+UZR5AidLe4AuT8T9MN4lBYOUSQF8pyxDHujBAak3zjlP0Q0DDZKpgVFIDQHIbDeAtkOA/toR80LNZCUBKnYAmwoY5QGHD0ytlGQZAi47k8h/SB0DE0ytlGeI4QLRZ9bnaihlA0ETY8PRKHUAHX5hMFYz6P6joSC7/Id0/L90kBoGV+z9Ei2zn+2lRQDnWxW00ADlAj+TyH9JvB0AHX5hMFYz6P5huEoPAyhlA2j15WKg1J0DaPXlYqDUbQFd9rrZifxVAx9y1hHzQG0Bpke18PzUQQKJFtvP91Og/VAWjkjoB/T9+jLlrCfkgQDuSy39IvxlAE2HD0ytlEUC8BRIUP8YIQD9XW7G/bDxA0SLb+X5qNkDKVMGopE4MQPhT46WbxPg/GLfRAN4CL0D7y+7Jw0IBQE2EDU+vlBVA/Rhz1xLyI0CMbOf7qfEhQA==\",\"dtype\":\"float64\",\"shape\":[86]}}},\"id\":\"5a41eb93-d65d-4f29-b832-11ffb26beb70\",\"type\":\"ColumnDataSource\"},{\"attributes\":{\"data_source\":{\"id\":\"c73eed8b-07fa-4184-924d-74b2ed08ed29\",\"type\":\"ColumnDataSource\"},\"glyph\":{\"id\":\"e3120928-39cb-4dc3-857b-ebc73d4669a2\",\"type\":\"Line\"},\"hover_glyph\":null,\"muted_glyph\":null,\"nonselection_glyph\":{\"id\":\"846996b9-8290-4d50-acc3-44116b582bc3\",\"type\":\"Line\"},\"selection_glyph\":null,\"view\":{\"id\":\"f2ea765c-86fe-4000-ab1a-40367880f9e5\",\"type\":\"CDSView\"}},\"id\":\"5999bb56-c169-45eb-82a2-ded949f0a819\",\"type\":\"GlyphRenderer\"},{\"attributes\":{\"children\":[{\"id\":\"b7031cb5-8b2b-4f40-adc6-2573e362faef\",\"type\":\"WidgetBox\"}]},\"id\":\"ca24b8e4-40a0-4ff5-8095-d227194fbc1f\",\"type\":\"Row\"},{\"attributes\":{\"callback\":null},\"id\":\"af5e1b0b-518d-41f9-9e8b-6ea30179357c\",\"type\":\"DataRange1d\"},{\"attributes\":{},\"id\":\"29f388f4-1a1b-432f-b7a4-abf86ec788eb\",\"type\":\"BasicTickFormatter\"},{\"attributes\":{},\"id\":\"f97bcb7b-e705-4341-823c-a5e7b830a38c\",\"type\":\"LinearScale\"},{\"attributes\":{\"children\":[{\"id\":\"82b9c352-40e6-4b30-9651-978f13fd10fe\",\"type\":\"Row\"},{\"id\":\"ca24b8e4-40a0-4ff5-8095-d227194fbc1f\",\"type\":\"Row\"}]},\"id\":\"b7d8251b-565f-45a0-a802-161d81f1ad33\",\"type\":\"Column\"},{\"attributes\":{\"callback\":null,\"point_policy\":\"follow_mouse\",\"tooltips\":[[\"Channel\",\"@channel\"],[\"Monthly Frequency\",\"@x{0.0}\"],[\"Average Session Duration\",\"@y{0,0}\"],[\"Users\",\"@z{0,0}\"]]},\"id\":\"6a86b816-732f-415c-bd52-66755e3c4776\",\"type\":\"HoverTool\"},{\"attributes\":{\"click_policy\":\"hide\",\"label_text_font_size\":{\"value\":\"8pt\"},\"location\":\"top_left\",\"plot\":{\"id\":\"4b7826dc-a829-4fd4-a01f-dc1adcc30873\",\"subtype\":\"Figure\",\"type\":\"Plot\"}},\"id\":\"c860e125-b203-48e7-94fe-626ea5f2c682\",\"type\":\"Legend\"},{\"attributes\":{},\"id\":\"3a5bf6e2-3f77-451f-b0a5-55f6cacd2ebc\",\"type\":\"WheelZoomTool\"},{\"attributes\":{\"level\":\"glyph\",\"plot\":{\"id\":\"4b7826dc-a829-4fd4-a01f-dc1adcc30873\",\"subtype\":\"Figure\",\"type\":\"Plot\"},\"source\":{\"id\":\"5a41eb93-d65d-4f29-b832-11ffb26beb70\",\"type\":\"ColumnDataSource\"},\"text\":{\"field\":\"channel\"},\"x\":{\"field\":\"x\"},\"x_offset\":{\"value\":5},\"y\":{\"field\":\"y\"},\"y_offset\":{\"value\":5}},\"id\":\"d44dddaa-3bbc-4217-a947-d4d7c8bd50eb\",\"type\":\"LabelSet\"}],\"root_ids\":[\"b7d8251b-565f-45a0-a802-161d81f1ad33\"]},\"title\":\"Bokeh Application\",\"version\":\"0.12.13\"}};\n",
       "  var render_items = [{\"docid\":\"e285da6c-97b5-49b6-89a3-740197a7ee94\",\"elementid\":\"e56c1a9e-8541-4caa-ba08-c06a97b9869d\",\"modelid\":\"b7d8251b-565f-45a0-a802-161d81f1ad33\"}];\n",
       "  root.Bokeh.embed.embed_items_notebook(docs_json, render_items);\n",
       "\n",
       "  }\n",
       "  if (root.Bokeh !== undefined) {\n",
       "    embed_document(root);\n",
       "  } else {\n",
       "    var attempts = 0;\n",
       "    var timer = setInterval(function(root) {\n",
       "      if (root.Bokeh !== undefined) {\n",
       "        embed_document(root);\n",
       "        clearInterval(timer);\n",
       "      }\n",
       "      attempts++;\n",
       "      if (attempts > 100) {\n",
       "        console.log(\"Bokeh: ERROR: Unable to run BokehJS code because BokehJS library is missing\")\n",
       "        clearInterval(timer);\n",
       "      }\n",
       "    }, 10, root)\n",
       "  }\n",
       "})(window);"
      ],
      "application/vnd.bokehjs_exec.v0+json": ""
     },
     "metadata": {
      "application/vnd.bokehjs_exec.v0+json": {
       "id": "b7d8251b-565f-45a0-a802-161d81f1ad33"
      }
     },
     "output_type": "display_data"
    }
   ],
   "source": [
    "p = createViz(gs['CTV']['mean'], \n",
    "              xcol='Frequency', ycol='Average Session Duration', zcol='users', scale=8e-4,\n",
    "              title='Frequency (x) vs. Average Session Duration (y) vs. Users (z) (CTV, Mar 2018)',\n",
    "              line_type='quadrant', output_format='html', output_fn='htmls/channel_scatterplot_CTV_2018-03.html')"
   ]
  },
  {
   "cell_type": "markdown",
   "metadata": {},
   "source": [
    "#### Mobile"
   ]
  },
  {
   "cell_type": "code",
   "execution_count": 170,
   "metadata": {},
   "outputs": [
    {
     "data": {
      "text/html": [
       "\n",
       "<div class=\"bk-root\">\n",
       "    <div class=\"bk-plotdiv\" id=\"ce6d0fda-3cc6-4408-9baf-676fc23a21e7\"></div>\n",
       "</div>"
      ]
     },
     "metadata": {},
     "output_type": "display_data"
    },
    {
     "data": {
      "application/javascript": [
       "(function(root) {\n",
       "  function embed_document(root) {\n",
       "    \n",
       "  var docs_json = {\"4515d079-660a-4c03-aec5-f51de16547a3\":{\"roots\":{\"references\":[{\"attributes\":{\"axis_label\":\"asd\",\"bounds\":[0,62.87433035714287],\"formatter\":{\"id\":\"ce132862-324f-4a40-86a2-97fe92e478aa\",\"type\":\"BasicTickFormatter\"},\"plot\":{\"id\":\"884ff65a-04a6-4491-a459-a290c3390e1c\",\"subtype\":\"Figure\",\"type\":\"Plot\"},\"ticker\":{\"id\":\"7d3c7f6f-7258-42f6-89df-709df77836cf\",\"type\":\"BasicTicker\"}},\"id\":\"c813dc39-a7cf-405a-a052-13d2a26cda60\",\"type\":\"LinearAxis\"},{\"attributes\":{},\"id\":\"da8578d9-c01d-4d47-81f1-9283da2bcf7b\",\"type\":\"SaveTool\"},{\"attributes\":{\"source\":{\"id\":\"78bc1d4f-bc84-4a0b-8e30-113823fafdd9\",\"type\":\"ColumnDataSource\"}},\"id\":\"9a074514-9c12-4a87-a8bb-92338dfdad08\",\"type\":\"CDSView\"},{\"attributes\":{\"active_drag\":\"auto\",\"active_inspect\":\"auto\",\"active_scroll\":\"auto\",\"active_tap\":\"auto\",\"tools\":[{\"id\":\"178fa81e-57ad-4dba-a3b4-ded4524640de\",\"type\":\"PanTool\"},{\"id\":\"27d10361-4a10-432f-956c-f372fd8b1071\",\"type\":\"WheelZoomTool\"},{\"id\":\"8016a136-a5f2-4814-b51e-0c4bdb79328d\",\"type\":\"ResetTool\"},{\"id\":\"b2f2ed7f-9a98-48d8-941b-e5682d8041cf\",\"type\":\"HoverTool\"},{\"id\":\"da8578d9-c01d-4d47-81f1-9283da2bcf7b\",\"type\":\"SaveTool\"}]},\"id\":\"3a884cf2-d804-4858-a6ae-d3408b7dfcf0\",\"type\":\"Toolbar\"},{\"attributes\":{},\"id\":\"27d10361-4a10-432f-956c-f372fd8b1071\",\"type\":\"WheelZoomTool\"},{\"attributes\":{\"data_source\":{\"id\":\"78bc1d4f-bc84-4a0b-8e30-113823fafdd9\",\"type\":\"ColumnDataSource\"},\"glyph\":{\"id\":\"0c272611-7174-4034-9895-a5641bc58304\",\"type\":\"Line\"},\"hover_glyph\":null,\"muted_glyph\":null,\"nonselection_glyph\":{\"id\":\"d977385e-e725-4a11-b66a-9a3d7166e302\",\"type\":\"Line\"},\"selection_glyph\":null,\"view\":{\"id\":\"9a074514-9c12-4a87-a8bb-92338dfdad08\",\"type\":\"CDSView\"}},\"id\":\"a801bf33-ee02-44b6-b571-c5edcae19a7f\",\"type\":\"GlyphRenderer\"},{\"attributes\":{\"click_policy\":\"hide\",\"label_text_font_size\":{\"value\":\"8pt\"},\"location\":\"top_left\",\"plot\":{\"id\":\"884ff65a-04a6-4491-a459-a290c3390e1c\",\"subtype\":\"Figure\",\"type\":\"Plot\"}},\"id\":\"feb3c8d3-7375-4fe4-9be9-5e470ce9bf57\",\"type\":\"Legend\"},{\"attributes\":{\"line_alpha\":0.1,\"line_color\":\"#1f77b4\",\"x\":{\"field\":\"x\"},\"y\":{\"field\":\"y\"}},\"id\":\"4e3a91bb-615a-4d47-b971-efc51fca6bcd\",\"type\":\"Line\"},{\"attributes\":{\"label\":{\"field\":\"category\"},\"renderers\":[{\"id\":\"3eed4965-145f-4506-9f8b-5561a1a44c31\",\"type\":\"GlyphRenderer\"}]},\"id\":\"b4763dec-b35a-4526-b01a-7cce4dabe9a3\",\"type\":\"LegendItem\"},{\"attributes\":{\"dimension\":1,\"plot\":{\"id\":\"884ff65a-04a6-4491-a459-a290c3390e1c\",\"subtype\":\"Figure\",\"type\":\"Plot\"},\"ticker\":{\"id\":\"7d3c7f6f-7258-42f6-89df-709df77836cf\",\"type\":\"BasicTicker\"}},\"id\":\"88688c63-fef1-4e72-b884-7181b9c9e79d\",\"type\":\"Grid\"},{\"attributes\":{\"callback\":null,\"column_names\":[\"category\",\"zsize\",\"y\",\"color\",\"x\",\"z\",\"channel\"],\"data\":{\"category\":[\"Chill Out\",\"Movies\",\"Life + Style\",\"Entertainment\",\"Geek + Gaming\",\"Entertainment\",\"Sports\",\"Sports\",\"Sports\",\"Movies\",\"News\",\"News\",\"Sports\",\"News\",\"Geek + Gaming\",\"Comedy\",\"Comedy\",\"News\",\"Movies\",\"Entertainment\",\"Entertainment\",\"Life + Style\",\"Entertainment\",\"Curiosity\",\"Entertainment\",\"Chill Out\",\"Sports\",\"Comedy\",\"Entertainment\",\"Sports\",\"Movies\",\"Life + Style\",\"Life + Style\",\"Comedy\",\"Sports\",\"Geek + Gaming\",\"Movies\",\"Geek + Gaming\",\"Movies\",\"Geek + Gaming\",\"Sports\",\"Chill Out\",\"Comedy\",\"Entertainment\",\"Life + Style\",\"Entertainment\",\"Comedy\",\"Entertainment\",\"Geek + Gaming\",\"Chill Out\",\"Sports\",\"Curiosity\",\"News\",\"Chill Out\",\"Geek + Gaming\",\"News\",\"News\",\"News\",\"Life + Style\",\"Entertainment\",\"Life + Style\",\"Movies\",\"Movies\",\"Sports\",\"Entertainment\",\"News\",\"Comedy\",\"Curiosity\",\"Entertainment\",\"News\",\"Chill Out\",\"Sports\",\"Sports\",\"Comedy\",\"Chill Out\",\"News\",\"Life + Style\",\"Movies\",\"Geek + Gaming\",\"Comedy\",\"Comedy\",\"News\",\"Chill Out\",\"Entertainment\",\"Sports\",\"Curiosity\"],\"channel\":[\"4K TV\",\"Action Movies\",\"Adventure TV\",\"After School Cartoons\",\"Anime All Day\",\"Awesomeness TV\",\"Big Sky Conference\",\"Big Sky Conference Live\",\"Big Sky Live 2\",\"Black Cinema\",\"Bloomberg TV\",\"Business News 24/7\",\"CIF Football\",\"CNBC\",\"CNET\",\"CRACKED\",\"Cats 24/7\",\"Cheddar\",\"Classic Movies Channel\",\"Classic TV\",\"Classic Toons TV\",\"Clevver\",\"Crime Network\",\"DocuTV\",\"DramaFever\",\"Eye Candy\",\"FOX Sports\",\"FailArmy\",\"Fear Factor\",\"Fight\",\"Flicks of Fury\",\"Food TV\",\"FrontDoor\",\"Funny AF\",\"GLORY Kickboxing\",\"Geek & Sundry\",\"Gravitas Movies\",\"Hive\",\"Horror 24/7\",\"IGN\",\"IMPACT Wrestling\",\"Internet Gold\",\"JASH\",\"Kids TV\",\"LittleThings\",\"Live Music Replay\",\"MST3K\",\"Man Up\",\"MinecrafTV\",\"Monstercat TV\",\"Montana\",\"NASA TV\",\"NBC News & MSNBC\",\"NatureVision TV\",\"Nerdist\",\"News 24/7\",\"NewsmaxTV\",\"Newsy\",\"POPSUGAR\",\"Paparazzi TV\",\"PeopleTV\",\"Pluto TV Movies\",\"Pluto TV Movies 2\",\"Pluto TV Sports\",\"REVRY 3\",\"RT America\",\"RiffTrax\",\"Science TV\",\"Shout! Factory TV\",\"Sky News\",\"Slow TV\",\"Sports News\",\"Stadium\",\"Stand-up TV\",\"THC\",\"TYT Network\",\"Tastemade\",\"The Asylum\",\"The Feed\",\"The Gorilla Channel\",\"The Onion\",\"Todays Top Story\",\"Vibes\",\"WHAT?!\",\"World Poker Tour\",\"XiveTV\"],\"color\":[\"green\",\"pink\",\"yellow\",\"black\",\"orange\",\"black\",\"turquoise\",\"turquoise\",\"turquoise\",\"pink\",\"grey\",\"grey\",\"turquoise\",\"grey\",\"orange\",\"blue\",\"blue\",\"grey\",\"pink\",\"black\",\"black\",\"yellow\",\"black\",\"red\",\"black\",\"green\",\"turquoise\",\"blue\",\"black\",\"turquoise\",\"pink\",\"yellow\",\"yellow\",\"blue\",\"turquoise\",\"orange\",\"pink\",\"orange\",\"pink\",\"orange\",\"turquoise\",\"green\",\"blue\",\"black\",\"yellow\",\"black\",\"blue\",\"black\",\"orange\",\"green\",\"turquoise\",\"red\",\"grey\",\"green\",\"orange\",\"grey\",\"grey\",\"grey\",\"yellow\",\"black\",\"yellow\",\"pink\",\"pink\",\"turquoise\",\"black\",\"grey\",\"blue\",\"red\",\"black\",\"grey\",\"green\",\"turquoise\",\"turquoise\",\"blue\",\"green\",\"grey\",\"yellow\",\"pink\",\"orange\",\"blue\",\"blue\",\"grey\",\"green\",\"black\",\"turquoise\",\"red\"],\"x\":{\"__ndarray__\":\"6yPfZMRRB0C6t35qwxgPQNjUOyf4ZxZAMQvIF4kSE0AFeUqQpwQRQHpGJMukZxBAVSizLlavCUAREREREREFQKRBGqRBGgpAr0/Xp+tTEECVze4T4xUUQMJR/X3eJglAVxtD0x3sB0DgHHG01isNQCmryNC/tA1AcTgcDofDD0CsSpfAR7wOQKlIdsxSwgpAcoqO5PIfC0BB/bF6Y6ERQHkN5TWUlxJAGvwmejq3D0D0liJRC/QOQCs/Ic7KTxBAhDqogzqoCUDMyn8GTPwVQNKE5toiKAxA50TdTU3GEkAYhmEYhmEWQAAAAACAKRBAMQisHFpkE0ARZPqUyDoUQDvsW+G0wxZAIEGS9ukWCUAgmX7HQeURQH1orA+NdRpAlXT6m84wD0Ahd/1ssTIKQDRL2eStPhJAYzqL6SymEUBODF1n2v0YQJbzZzl/lgdAfKKAEK2TD0CU+BklfkYPQI4oMOnUPAhAuvUjgjg6CED549blHXAaQGs/PPlfDhRAoQ7qoA7qEEDgAhe4wAUGQJqmaZqmaQJA8pOhQIBmB0AaHo1fmo8ZQDm7hV+NiQZAPy+qxcJkDUDC79R6LIQSQEyP+XttxA5Aj3WHMQG2C0AfGutDY30QQF5OwcspeAVA52NwPgbnC0A8KJWQXAMNQAZ7BcaNZw5AZbzXGu4LCECfoc/QZ+gPQF8YHXJsBhJAU4wa/jbFHEBELIxmb4sSQCPtWIEw0gpAHXgFZtstDkDwL6MgoLkOQAAAAAAAoARAa7j4IQxyCkBrWHoRJyoTQN47Vyd7KAlAeTwej8fjDkA9wdETHD0RQMpkMplMJhJAM4Z557jBCUDhV2MiPVAFQEYXXXTRRQZAM+kZkSxzEECDx/JebZEHQFhIelTm/RBAWZ4OT8whH0DSc2H0XBgXQA==\",\"dtype\":\"float64\",\"shape\":[86]},\"y\":{\"__ndarray__\":\"JKdztmJgOkBdzzyqPXZBQI3a1T8NSj9AUFNKTUBYQkDj8LvOZJA5QEk6hcdmAzNAyPAJV8awN0BAu4DYVCZJQKi5/Zv0oUhA105qLIMyQUDOnL6oHeI9QHVh+VqHTjZAApUFi+SFR0DllKPlteY2QLBIZywJdzlAPDanjYzUN0Bljd3i5yswQEMZpvMYajhANicLzhhxQED7uQ1PAlI9QGSS6QzxW0BAKwqp++0GLkC+GnebKfhAQDC3JW2b3j5Akk1Bv0GHPUBZAOTSVKwsQFQEYkp4RDZAD/HEMkupN0Czlnfs2uBDQHM1PVQMnTZAhCvI2c1lQECzhtBhyeM7QCW2EtFBpENAWuJYYnSuP0CvcrHav30+QCwHJUBXnDhAtoSZoLHcOkDKsSEmpoE8QLARb58xMkJAgkgLyEYxNEDmS0l1IHM9QNwcTos9lDFAePfFchONOUCO0nIZaxJAQGk/G7s4FjNAu+KFlnRsNkAQC3cJ6PlGQEnVF8ipekNAe0xKBUmiO0C03eOCVvpGQMTsdhlC7EhALJy/LzYBLEC4h9mj9Nk/QPQP1kqAQT1A5TK6HrlPNECcmtpftUw4QOVNdH70YDZA9HLWuwWiNEBRNjfLbs0zQHHj7UuauzNAWSnAnyvEMECM12z9zOk8QEES1U3MVUFAvjdQF8tdOUATfYcE4WIzQJCVNHNv5zpAQLrcliCoRUAaa6dpTrpAQEIyKplxHzxAk3+VeEZvNEAfJrj3Hzw+QJpcOe5eLjJAeZDZ5D2eNEBhGZnFglJBQKhBJgXd2zVAj73xm0+dNkCbf2aDeSozQBXqdMQVET9ALSDxlgTYQkBjrb2sm9QwQDe7yggBei5A6GCJHKgEMEDWLvVDDlsoQJFu37kot0FAlpASBNa8Q0CWmstGtDJEQA==\",\"dtype\":\"float64\",\"shape\":[86]},\"z\":[670,12178,2349,2928,1265,494,603,120,780,7248,655,382,309,1711,694,508,1841,606,5000,2051,3040,197,2805,1232,280,6775,3878,4570,3528,2048,6375,2282,1295,2335,2374,392,3509,1212,12163,570,4889,660,605,1932,202,598,2740,3633,350,89,126,507,7416,268,531,8495,1272,1287,343,98,246,29548,8875,515,434,1355,2160,1388,950,1217,502,320,422,2988,1347,1016,620,8128,929,536,264,7904,426,1097,2189,1366],\"zsize\":{\"__ndarray__\":\"Fa5H4XoUAEAxCKwcWkRCQOOlm8QgMBxAxSCwcmiRIUBcj8L1KFwOQIPAyqFFtvc/i2zn+6nx/D8K16NwPQrXP7gehetRuAJAWDm0yHa+NUBxPQrXo3D/P710kxgEVvI/RIts5/up7T/VeOkmMYgUQA4tsp3vpwBA/Knx0k1i+D9kO99PjRcWQEoMAiuHFv0/AAAAAAAALkDqJjEIrJwYQD4K16NwPSJAtvP91Hjp4j8VrkfhetQgQMUgsHJokQ1A4XoUrkfh6j8zMzMzM1M0QPhT46WbRCdA7FG4HoVrK0BeukkMAislQPp+arx0kxhAAAAAAAAgM0D8qfHSTWIbQBWuR+F6FA9AhetRuB4FHECwcmiR7XwcQDeJQWDl0PI/6Pup8dINJUBKDAIrhxYNQDvfT42XPkJAXI/C9Shc+z8v3SQGgVUtQK5H4XoUrv8/CtejcD0K/T/Jdr6fGi8XQDEIrBxaZOM/TmIQWDm0/D9xPQrXo3AgQEA1XrpJzCVAzczMzMzM8D9KDAIrhxbRP/7UeOkmMdg/vXSTGARW+D9zaJHtfD82QO58PzVeuuk/sHJoke18+T9cj8L1KHw5QLtJDAIrhw5AF9nO91PjDkAQWDm0yHbwPzeJQWDl0NI/BFYOLbKd5z/wp8ZLNylWQAAAAAAAoDpAuB6F61G4+D+iRbbz/dT0P8P1KFyPQhBA7FG4HoXrGUAOLbKd76cQQM3MzMzMzAZAaZHtfD81DUB/arx0kxj4P7gehetRuO4/qMZLN4lB9D8hsHJoke0hQESLbOf7KRBA/Knx0k1iCEDD9Shcj8L9P/yp8dJNYjhAsp3vp8ZLBkDufD81Xrr5P/LSTWIQWOk/g8DKoUW2N0Cmm8QgsHL0P4cW2c73UwpA+FPjpZtEGkAxCKwcWmQQQA==\",\"dtype\":\"float64\",\"shape\":[86]}}},\"id\":\"6fe9e6a9-a19d-4827-bc2f-86a45324b2d1\",\"type\":\"ColumnDataSource\"},{\"attributes\":{\"line_color\":\"grey\",\"x\":{\"field\":\"x\"},\"y\":{\"field\":\"y\"}},\"id\":\"0c272611-7174-4034-9895-a5641bc58304\",\"type\":\"Line\"},{\"attributes\":{\"callback\":null,\"column_names\":[\"y\",\"x\"],\"data\":{\"x\":{\"__ndarray__\":\"AAAAAAAAAACc+Dv84K0iQA==\",\"dtype\":\"float64\",\"shape\":[2]},\"y\":{\"__ndarray__\":\"HtfqY7YUPEAe1+pjthQ8QA==\",\"dtype\":\"float64\",\"shape\":[2]}}},\"id\":\"16d4a8eb-837d-4ebb-976f-8dd5d12c51e7\",\"type\":\"ColumnDataSource\"},{\"attributes\":{},\"id\":\"178fa81e-57ad-4dba-a3b4-ded4524640de\",\"type\":\"PanTool\"},{\"attributes\":{\"callback\":null},\"id\":\"1783b26c-eac7-4558-a1d0-457cbaea47ee\",\"type\":\"DataRange1d\"},{\"attributes\":{\"fill_alpha\":{\"value\":0.1},\"fill_color\":{\"value\":\"#1f77b4\"},\"line_alpha\":{\"value\":0.1},\"line_color\":{\"value\":\"#1f77b4\"},\"size\":{\"field\":\"zsize\",\"units\":\"screen\"},\"x\":{\"field\":\"x\"},\"y\":{\"field\":\"y\"}},\"id\":\"c0085f87-2aaf-4a2c-945e-7cdca2885721\",\"type\":\"Circle\"},{\"attributes\":{\"callback\":null,\"point_policy\":\"follow_mouse\",\"tooltips\":[[\"Channel\",\"@channel\"],[\"Monthly Frequency\",\"@x{0.0}\"],[\"Average Session Duration\",\"@y{0,0}\"],[\"Users\",\"@z{0,0}\"]]},\"id\":\"b2f2ed7f-9a98-48d8-941b-e5682d8041cf\",\"type\":\"HoverTool\"},{\"attributes\":{\"source\":{\"id\":\"16d4a8eb-837d-4ebb-976f-8dd5d12c51e7\",\"type\":\"ColumnDataSource\"}},\"id\":\"a08a399b-a637-48cc-b5be-6a7a13400421\",\"type\":\"CDSView\"},{\"attributes\":{\"children\":[{\"id\":\"5684a4f3-751d-4158-9769-d3898e1d3705\",\"type\":\"WidgetBox\"}]},\"id\":\"63de81e0-89ba-431b-845e-1011a3599ce5\",\"type\":\"Row\"},{\"attributes\":{\"callback\":null},\"id\":\"00e406fb-3ffc-49dd-a6f9-ceeb088559e6\",\"type\":\"DataRange1d\"},{\"attributes\":{},\"id\":\"f8b394fb-bf92-4b95-869d-be81abf612a9\",\"type\":\"LinearScale\"},{\"attributes\":{\"click_policy\":\"hide\",\"items\":[{\"id\":\"b4763dec-b35a-4526-b01a-7cce4dabe9a3\",\"type\":\"LegendItem\"}],\"label_text_font_size\":{\"value\":\"8pt\"},\"location\":\"top_left\",\"plot\":{\"id\":\"884ff65a-04a6-4491-a459-a290c3390e1c\",\"subtype\":\"Figure\",\"type\":\"Plot\"}},\"id\":\"2da92bcc-c86a-433e-a7cd-74a8b1a02915\",\"type\":\"Legend\"},{\"attributes\":{},\"id\":\"c0e199c9-51ac-40c8-b4da-ecfc6036cbea\",\"type\":\"LinearScale\"},{\"attributes\":{\"line_color\":\"grey\",\"x\":{\"field\":\"x\"},\"y\":{\"field\":\"y\"}},\"id\":\"78a98023-2255-45c8-9cd0-32e521ef83fa\",\"type\":\"Line\"},{\"attributes\":{\"source\":{\"id\":\"6fe9e6a9-a19d-4827-bc2f-86a45324b2d1\",\"type\":\"ColumnDataSource\"}},\"id\":\"e823578c-5a7e-45f1-83ba-3df90d0ab940\",\"type\":\"CDSView\"},{\"attributes\":{\"level\":\"glyph\",\"plot\":{\"id\":\"884ff65a-04a6-4491-a459-a290c3390e1c\",\"subtype\":\"Figure\",\"type\":\"Plot\"},\"source\":{\"id\":\"6fe9e6a9-a19d-4827-bc2f-86a45324b2d1\",\"type\":\"ColumnDataSource\"},\"text\":{\"field\":\"channel\"},\"x\":{\"field\":\"x\"},\"x_offset\":{\"value\":5},\"y\":{\"field\":\"y\"},\"y_offset\":{\"value\":5}},\"id\":\"9c3a4720-7cf1-4bdc-8ffe-352ce1a139fc\",\"type\":\"LabelSet\"},{\"attributes\":{},\"id\":\"a101e2a3-d9d6-4149-8607-aa5b0b7ccd6c\",\"type\":\"BasicTickFormatter\"},{\"attributes\":{\"button_type\":\"success\",\"callback\":{\"id\":\"a8919027-675e-40bd-bf3a-750f42be0353\",\"type\":\"CustomJS\"},\"icon\":null,\"label\":\"Show/Hide Channel Labels\"},\"id\":\"222c8798-74ff-4738-8d3c-418164617023\",\"type\":\"Toggle\"},{\"attributes\":{\"below\":[{\"id\":\"03f4fe8f-a3e3-441a-b8ba-a51637f446fe\",\"type\":\"LinearAxis\"}],\"left\":[{\"id\":\"c813dc39-a7cf-405a-a052-13d2a26cda60\",\"type\":\"LinearAxis\"}],\"plot_width\":1000,\"renderers\":[{\"id\":\"03f4fe8f-a3e3-441a-b8ba-a51637f446fe\",\"type\":\"LinearAxis\"},{\"id\":\"4174e838-0521-4538-ae07-2d84a1f2d704\",\"type\":\"Grid\"},{\"id\":\"c813dc39-a7cf-405a-a052-13d2a26cda60\",\"type\":\"LinearAxis\"},{\"id\":\"88688c63-fef1-4e72-b884-7181b9c9e79d\",\"type\":\"Grid\"},{\"id\":\"2da92bcc-c86a-433e-a7cd-74a8b1a02915\",\"type\":\"Legend\"},{\"id\":\"3eed4965-145f-4506-9f8b-5561a1a44c31\",\"type\":\"GlyphRenderer\"},{\"id\":\"9c3a4720-7cf1-4bdc-8ffe-352ce1a139fc\",\"type\":\"LabelSet\"},{\"id\":\"a801bf33-ee02-44b6-b571-c5edcae19a7f\",\"type\":\"GlyphRenderer\"},{\"id\":\"d430fb95-2a69-48ba-aee8-cf9691559e2d\",\"type\":\"GlyphRenderer\"},{\"id\":\"feb3c8d3-7375-4fe4-9be9-5e470ce9bf57\",\"type\":\"Legend\"}],\"right\":[{\"id\":\"feb3c8d3-7375-4fe4-9be9-5e470ce9bf57\",\"type\":\"Legend\"}],\"title\":{\"id\":\"e9024510-8a15-48e9-b3bf-7b8f3ba08437\",\"type\":\"Title\"},\"toolbar\":{\"id\":\"3a884cf2-d804-4858-a6ae-d3408b7dfcf0\",\"type\":\"Toolbar\"},\"x_range\":{\"id\":\"1783b26c-eac7-4558-a1d0-457cbaea47ee\",\"type\":\"DataRange1d\"},\"x_scale\":{\"id\":\"c0e199c9-51ac-40c8-b4da-ecfc6036cbea\",\"type\":\"LinearScale\"},\"y_range\":{\"id\":\"00e406fb-3ffc-49dd-a6f9-ceeb088559e6\",\"type\":\"DataRange1d\"},\"y_scale\":{\"id\":\"f8b394fb-bf92-4b95-869d-be81abf612a9\",\"type\":\"LinearScale\"}},\"id\":\"884ff65a-04a6-4491-a459-a290c3390e1c\",\"subtype\":\"Figure\",\"type\":\"Plot\"},{\"attributes\":{\"plot\":{\"id\":\"884ff65a-04a6-4491-a459-a290c3390e1c\",\"subtype\":\"Figure\",\"type\":\"Plot\"},\"ticker\":{\"id\":\"4c1a8526-a218-4620-a301-b8c5d7ada3a1\",\"type\":\"BasicTicker\"}},\"id\":\"4174e838-0521-4538-ae07-2d84a1f2d704\",\"type\":\"Grid\"},{\"attributes\":{},\"id\":\"4c1a8526-a218-4620-a301-b8c5d7ada3a1\",\"type\":\"BasicTicker\"},{\"attributes\":{},\"id\":\"7d3c7f6f-7258-42f6-89df-709df77836cf\",\"type\":\"BasicTicker\"},{\"attributes\":{\"data_source\":{\"id\":\"6fe9e6a9-a19d-4827-bc2f-86a45324b2d1\",\"type\":\"ColumnDataSource\"},\"glyph\":{\"id\":\"a427911e-11f9-4786-a54c-6b1afed456b7\",\"type\":\"Circle\"},\"hover_glyph\":null,\"muted_glyph\":null,\"nonselection_glyph\":{\"id\":\"c0085f87-2aaf-4a2c-945e-7cdca2885721\",\"type\":\"Circle\"},\"selection_glyph\":null,\"view\":{\"id\":\"e823578c-5a7e-45f1-83ba-3df90d0ab940\",\"type\":\"CDSView\"}},\"id\":\"3eed4965-145f-4506-9f8b-5561a1a44c31\",\"type\":\"GlyphRenderer\"},{\"attributes\":{\"children\":[{\"id\":\"222c8798-74ff-4738-8d3c-418164617023\",\"type\":\"Toggle\"}]},\"id\":\"5684a4f3-751d-4158-9769-d3898e1d3705\",\"type\":\"WidgetBox\"},{\"attributes\":{\"children\":[{\"id\":\"884ff65a-04a6-4491-a459-a290c3390e1c\",\"subtype\":\"Figure\",\"type\":\"Plot\"}]},\"id\":\"b93b31a8-2c78-439a-bcb7-73a359984d5f\",\"type\":\"Row\"},{\"attributes\":{\"plot\":null,\"text\":\"Frequency (x) vs. Average Session Duration (y) vs. Users (z) (Mobile, Mar 2018)\"},\"id\":\"e9024510-8a15-48e9-b3bf-7b8f3ba08437\",\"type\":\"Title\"},{\"attributes\":{\"fill_color\":{\"field\":\"color\"},\"line_color\":{\"field\":\"color\"},\"size\":{\"field\":\"zsize\",\"units\":\"screen\"},\"x\":{\"field\":\"x\"},\"y\":{\"field\":\"y\"}},\"id\":\"a427911e-11f9-4786-a54c-6b1afed456b7\",\"type\":\"Circle\"},{\"attributes\":{},\"id\":\"8016a136-a5f2-4814-b51e-0c4bdb79328d\",\"type\":\"ResetTool\"},{\"attributes\":{\"line_alpha\":0.1,\"line_color\":\"#1f77b4\",\"x\":{\"field\":\"x\"},\"y\":{\"field\":\"y\"}},\"id\":\"d977385e-e725-4a11-b66a-9a3d7166e302\",\"type\":\"Line\"},{\"attributes\":{\"axis_label\":\"sessions\",\"bounds\":[0.0,9.728757423481042],\"formatter\":{\"id\":\"a101e2a3-d9d6-4149-8607-aa5b0b7ccd6c\",\"type\":\"BasicTickFormatter\"},\"plot\":{\"id\":\"884ff65a-04a6-4491-a459-a290c3390e1c\",\"subtype\":\"Figure\",\"type\":\"Plot\"},\"ticker\":{\"id\":\"4c1a8526-a218-4620-a301-b8c5d7ada3a1\",\"type\":\"BasicTicker\"}},\"id\":\"03f4fe8f-a3e3-441a-b8ba-a51637f446fe\",\"type\":\"LinearAxis\"},{\"attributes\":{\"args\":{\"object\":{\"id\":\"9c3a4720-7cf1-4bdc-8ffe-352ce1a139fc\",\"type\":\"LabelSet\"},\"toggle\":{\"id\":\"222c8798-74ff-4738-8d3c-418164617023\",\"type\":\"Toggle\"}},\"code\":\"object.visible = toggle.active;\\n\"},\"id\":\"a8919027-675e-40bd-bf3a-750f42be0353\",\"type\":\"CustomJS\"},{\"attributes\":{},\"id\":\"ce132862-324f-4a40-86a2-97fe92e478aa\",\"type\":\"BasicTickFormatter\"},{\"attributes\":{\"callback\":null,\"column_names\":[\"y\",\"x\"],\"data\":{\"x\":{\"__ndarray__\":\"xGLei8s8EEDEYt6LyzwQQA==\",\"dtype\":\"float64\",\"shape\":[2]},\"y\":{\"__ndarray__\":\"AAAAAAAAAADmEzRq/y1OQA==\",\"dtype\":\"float64\",\"shape\":[2]}}},\"id\":\"78bc1d4f-bc84-4a0b-8e30-113823fafdd9\",\"type\":\"ColumnDataSource\"},{\"attributes\":{\"data_source\":{\"id\":\"16d4a8eb-837d-4ebb-976f-8dd5d12c51e7\",\"type\":\"ColumnDataSource\"},\"glyph\":{\"id\":\"78a98023-2255-45c8-9cd0-32e521ef83fa\",\"type\":\"Line\"},\"hover_glyph\":null,\"muted_glyph\":null,\"nonselection_glyph\":{\"id\":\"4e3a91bb-615a-4d47-b971-efc51fca6bcd\",\"type\":\"Line\"},\"selection_glyph\":null,\"view\":{\"id\":\"a08a399b-a637-48cc-b5be-6a7a13400421\",\"type\":\"CDSView\"}},\"id\":\"d430fb95-2a69-48ba-aee8-cf9691559e2d\",\"type\":\"GlyphRenderer\"},{\"attributes\":{\"children\":[{\"id\":\"b93b31a8-2c78-439a-bcb7-73a359984d5f\",\"type\":\"Row\"},{\"id\":\"63de81e0-89ba-431b-845e-1011a3599ce5\",\"type\":\"Row\"}]},\"id\":\"c8d20b90-0257-48a5-b41a-39de11fb2e8e\",\"type\":\"Column\"}],\"root_ids\":[\"c8d20b90-0257-48a5-b41a-39de11fb2e8e\"]},\"title\":\"Bokeh Application\",\"version\":\"0.12.13\"}};\n",
       "  var render_items = [{\"docid\":\"4515d079-660a-4c03-aec5-f51de16547a3\",\"elementid\":\"ce6d0fda-3cc6-4408-9baf-676fc23a21e7\",\"modelid\":\"c8d20b90-0257-48a5-b41a-39de11fb2e8e\"}];\n",
       "  root.Bokeh.embed.embed_items_notebook(docs_json, render_items);\n",
       "\n",
       "  }\n",
       "  if (root.Bokeh !== undefined) {\n",
       "    embed_document(root);\n",
       "  } else {\n",
       "    var attempts = 0;\n",
       "    var timer = setInterval(function(root) {\n",
       "      if (root.Bokeh !== undefined) {\n",
       "        embed_document(root);\n",
       "        clearInterval(timer);\n",
       "      }\n",
       "      attempts++;\n",
       "      if (attempts > 100) {\n",
       "        console.log(\"Bokeh: ERROR: Unable to run BokehJS code because BokehJS library is missing\")\n",
       "        clearInterval(timer);\n",
       "      }\n",
       "    }, 10, root)\n",
       "  }\n",
       "})(window);"
      ],
      "application/vnd.bokehjs_exec.v0+json": ""
     },
     "metadata": {
      "application/vnd.bokehjs_exec.v0+json": {
       "id": "c8d20b90-0257-48a5-b41a-39de11fb2e8e"
      }
     },
     "output_type": "display_data"
    }
   ],
   "source": [
    "p = createViz(gs['Mobile']['mean'], \n",
    "              xcol='sessions', ycol='asd', zcol='users', scale=3e-3,\n",
    "              title='Frequency (x) vs. Average Session Duration (y) vs. Users (z) (Mobile, Mar 2018)',\n",
    "              line_type='quadrant', output_format='html', output_fn='htmls/channel_scatterplot_Mobile_2018-03.html')"
   ]
  },
  {
   "cell_type": "markdown",
   "metadata": {},
   "source": [
    "#### Define createViz"
   ]
  },
  {
   "cell_type": "code",
   "execution_count": 194,
   "metadata": {},
   "outputs": [],
   "source": [
    "def createViz(df, xcol, ycol, zcol, output_format='notebook', title=\"Users vs TVMs\", output_fn=\"users_tvms.html\",\n",
    "              line_type='regression', scale=1e-5):\n",
    "    if output_format == 'notebook':\n",
    "        output_notebook()\n",
    "    elif output_format == 'html':\n",
    "        output_file(output_fn, title=title)\n",
    "    else:\n",
    "        print 'Unknown format'\n",
    "\n",
    "    source_dict = dict()\n",
    "    color_lst = ['green','blue','red','black','orange','yellow','pink','grey','turquoise','brown']\n",
    "    r = lambda: random.randint(0,255)\n",
    "    h = lambda: '#%02X%02X%02X' % (r(),r(),r())\n",
    "    color_lst = [color_lst[i] for i,x in enumerate(df['category'].unique())]\n",
    "    category_lst = sorted(df.category.unique())\n",
    "    color_mapping = {cat:color for cat,color in zip(category_lst, color_lst)}\n",
    "    category_colors = [color_mapping[cat] for cat in df.category]\n",
    "    source = ColumnDataSource(data= dict(\n",
    "                                x=df[xcol],\n",
    "                                y=df[ycol],\n",
    "                                z=df[zcol],\n",
    "                                zsize=df[zcol]*scale,\n",
    "                                channel=df['Channel'],\n",
    "                                color=category_colors,\n",
    "                                category=df.category\n",
    "                                )\n",
    "                            )\n",
    "    color_dict = {cat:color for cat,color in zip(sorted(df.category.unique()), color_lst)}\n",
    "\n",
    "    TOOLS = \"pan,wheel_zoom,reset,hover,save\"\n",
    "\n",
    "    p = figure(title=title, tools=TOOLS, plot_width=1000, plot_height=600)\n",
    "    p.scatter(x='x', y='y', size='zsize', source=source, color='color', legend='category')\n",
    "    p.xaxis[0].axis_label = xcol\n",
    "    p.yaxis[0].axis_label = ycol\n",
    "\n",
    "\n",
    "    labels = LabelSet(x='x', y='y', text='channel', level='glyph',\n",
    "                      x_offset=5, y_offset=5, source=source, render_mode='canvas')\n",
    "    p.add_layout(labels)\n",
    "\n",
    "    hover = p.select_one(HoverTool)\n",
    "    hover.point_policy = \"follow_mouse\"\n",
    "    hover.tooltips = [\n",
    "        (\"Channel\", \"@channel\"),\n",
    "        (\"Monthly Frequency\", \"@x{0.0}\"),\n",
    "        (\"Average Session Duration\", \"@y{0,0}\"),\n",
    "        (\"Users\", \"@z{0,0}\")\n",
    "    ]\n",
    "\n",
    "    x_min = 0\n",
    "    y_min = 0\n",
    "    # This code is to determine xmax and ymax, or xmid and ymid\n",
    "    if line_type == 'regression':\n",
    "        n=np.std(df[ycol])/2\n",
    "        x_max = max(df[xcol])\n",
    "        slope, intercept = np.polyfit(df[xcol], df[ycol], 1)\n",
    "        y_max = x_max*slope + intercept\n",
    "        xx = np.array([x_min, x_max])\n",
    "        yy = np.array([y_min, y_max])\n",
    "        p.line(xx, yy, line_width=1, line_color='black')\n",
    "        p.line(xx, yy-n, line_width=0.5, line_color='grey')\n",
    "        p.line(xx, yy+n, line_width=0.5, line_color='grey')\n",
    "    elif line_type == 'quadrant':\n",
    "        x_mid = df[xcol].mean()\n",
    "        y_mid = df[ycol].mean()\n",
    "        x_max = df[xcol].max()\n",
    "        y_max = df[ycol].max()\n",
    "        p.line(np.array([x_mid, x_mid]), np.array([0,y_max*1.2]),line_width=1, line_color='grey')\n",
    "        p.line(np.array([0, x_max*1.2]), np.array([y_mid, y_mid]),line_width=1, line_color='grey')\n",
    "\n",
    "    p.xaxis.bounds = (x_min*0.75, x_max*1.25)\n",
    "    p.yaxis.bounds = (y_min, y_max*1.25)\n",
    "\n",
    "    # legend = Legend(items= [(cat,[scatter_items[cat]]) for cat in df.category.unique()])\n",
    "    legend = Legend()\n",
    "    p.add_layout(legend, 'right')\n",
    "    p.legend.location = \"top_left\"\n",
    "    p.legend.label_text_font_size = '8pt'\n",
    "    p.legend.click_policy=\"hide\"\n",
    "\n",
    "    # We write coffeescript to link toggle with visible property of labels\n",
    "    code = '''\n",
    "    object.visible = toggle.active\n",
    "    '''\n",
    "    callback1 = CustomJS.from_coffeescript(code=code, args={})\n",
    "    toggle1 = Toggle(label=\"Show/Hide Channel Labels\", button_type=\"success\", callback=callback1)\n",
    "    callback1.args = {'toggle': toggle1, 'object': labels}\n",
    "\n",
    "    show(layout([p],[toggle1]))\n",
    "    # handle = show(p, notebook_handle=True)\n",
    "    # return p"
   ]
  },
  {
   "cell_type": "code",
   "execution_count": null,
   "metadata": {},
   "outputs": [],
   "source": []
  }
 ],
 "metadata": {
  "kernelspec": {
   "display_name": "Python 2",
   "language": "python",
   "name": "python2"
  },
  "language_info": {
   "codemirror_mode": {
    "name": "ipython",
    "version": 2
   },
   "file_extension": ".py",
   "mimetype": "text/x-python",
   "name": "python",
   "nbconvert_exporter": "python",
   "pygments_lexer": "ipython2",
   "version": "2.7.14"
  }
 },
 "nbformat": 4,
 "nbformat_minor": 2
}
