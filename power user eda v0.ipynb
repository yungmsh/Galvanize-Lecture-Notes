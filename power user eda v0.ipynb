{
 "cells": [
  {
   "cell_type": "code",
   "execution_count": 96,
   "metadata": {
    "collapsed": false
   },
   "outputs": [],
   "source": [
    "import pandas as pd\n",
    "import numpy as np\n",
    "import matplotlib.pyplot as plt\n",
    "import ipywidgets as widgets\n",
    "from IPython.display import display\n",
    "from IPython.html.widgets import *\n",
    "pd.set_option('precision',3)\n",
    "%matplotlib inline"
   ]
  },
  {
   "cell_type": "code",
   "execution_count": 85,
   "metadata": {
    "collapsed": true
   },
   "outputs": [],
   "source": [
    "df = pd.read_csv('Data/investigate_usage_2017.csv')"
   ]
  },
  {
   "cell_type": "code",
   "execution_count": 86,
   "metadata": {
    "collapsed": true
   },
   "outputs": [],
   "source": [
    "df.columns = ['month', 'user_id', 'sessions', 'tvms']\n",
    "df['power_status'] = df.apply(lambda x: x['sessions']>=3. and x['tvms']>=60*4, axis=1)"
   ]
  },
  {
   "cell_type": "code",
   "execution_count": 91,
   "metadata": {
    "collapsed": false,
    "scrolled": true
   },
   "outputs": [
    {
     "data": {
      "text/plain": [
       "(0, 50)"
      ]
     },
     "execution_count": 91,
     "metadata": {},
     "output_type": "execute_result"
    },
    {
     "data": {
      "image/png": "[encoded data removed]",
      "text/plain": [
       "<matplotlib.figure.Figure at 0x110a680d0>"
      ]
     },
     "metadata": {},
     "output_type": "display_data"
    }
   ],
   "source": [
    "fig = plt.figure(figsize=(20,8))\n",
    "plt.title('Distribution of # of Sessions')\n",
    "sessions_mask = df['sessions']<=50\n",
    "plt.hist(df[sessions_mask]['sessions'], bins=50, normed=True)\n",
    "plt.xlim(0,50)"
   ]
  },
  {
   "cell_type": "code",
   "execution_count": 92,
   "metadata": {
    "collapsed": false
   },
   "outputs": [],
   "source": [
    "# print '# of MONTHLY SESSIONS'\n",
    "# for i in range(0,105,5):\n",
    "#     print 'The {}th percentile = {}'.format(i, np.percentile(df2['sessions'],i))"
   ]
  },
  {
   "cell_type": "code",
   "execution_count": 93,
   "metadata": {
    "collapsed": false
   },
   "outputs": [],
   "source": [
    "# print 'TOTAL MONTHLY USER DURATION'\n",
    "# for i in range(0,105,5):\n",
    "#     print 'The {}th percentile = {}'.format(i, np.percentile(df2['tvms'],i))"
   ]
  },
  {
   "cell_type": "markdown",
   "metadata": {},
   "source": [
    "### Power User Threshold Slider"
   ]
  },
  {
   "cell_type": "markdown",
   "metadata": {},
   "source": [
    "Use the slider below to determine a desired threshold for Sessions and TVM."
   ]
  },
  {
   "cell_type": "code",
   "execution_count": 129,
   "metadata": {
    "collapsed": false
   },
   "outputs": [
    {
     "data": {
      "text/html": [
       "<div>\n",
       "<table border=\"1\" class=\"dataframe\">\n",
       "  <thead>\n",
       "    <tr style=\"text-align: right;\">\n",
       "      <th></th>\n",
       "      <th>1.0</th>\n",
       "      <th>2.0</th>\n",
       "      <th>3.0</th>\n",
       "      <th>4.0</th>\n",
       "      <th>5.0</th>\n",
       "    </tr>\n",
       "  </thead>\n",
       "  <tbody>\n",
       "    <tr>\n",
       "      <th>% of Power Users</th>\n",
       "      <td>12.0%</td>\n",
       "      <td>13.6%</td>\n",
       "      <td>16.0%</td>\n",
       "      <td>16.2%</td>\n",
       "      <td>14.9%</td>\n",
       "    </tr>\n",
       "  </tbody>\n",
       "</table>\n",
       "</div>"
      ],
      "text/plain": [
       "                    1.0    2.0    3.0    4.0    5.0\n",
       "% of Power Users  12.0%  13.6%  16.0%  16.2%  14.9%"
      ]
     },
     "metadata": {},
     "output_type": "display_data"
    },
    {
     "name": "stdout",
     "output_type": "stream",
     "text": [
      "Column headers are month numbers (e.g. 1 = Jan, 2 = Feb, etc.)\n"
     ]
    }
   ],
   "source": [
    "def f(Sessions, TVH):\n",
    "    tvm = 60*TVH\n",
    "    data = dict()\n",
    "    for i in sorted(df.month.unique()):\n",
    "#         print 'Month {}'.format(i)\n",
    "        p = len(df[(df['tvms']>=tvm)&(df['sessions']>=Sessions)&(df['month']==i)])/float(len(df[df['month']==i]))\n",
    "        p_f = np.round(p, 3)*100\n",
    "#         print '{}% are Power Users'.format(p_f)\n",
    "        data[i] = '{}%'.format(p_f)\n",
    "    return pd.DataFrame(data, index=['% of Power Users'])\n",
    "\n",
    "widgets.interact(f, Sessions=3, TVH=4, min=0, max=1000)\n",
    "print 'Column headers are month numbers (e.g. 1 = Jan, 2 = Feb, etc.)'"
   ]
  },
  {
   "cell_type": "code",
   "execution_count": null,
   "metadata": {
    "collapsed": true
   },
   "outputs": [],
   "source": []
  }
 ],
 "metadata": {
  "kernelspec": {
   "display_name": "Python 2",
   "language": "python",
   "name": "python2"
  },
  "language_info": {
   "codemirror_mode": {
    "name": "ipython",
    "version": 2
   },
   "file_extension": ".py",
   "mimetype": "text/x-python",
   "name": "python",
   "nbconvert_exporter": "python",
   "pygments_lexer": "ipython2",
   "version": "2.7.13"
  },
  "widgets": {
   "state": {
    "111db3763c2a46b28c2571827fc88742": {
     "views": [
      {
       "cell_index": 15
      }
     ]
    },
    "11cb3f7970a94cc2b66cb87d46843b72": {
     "views": [
      {
       "cell_index": 15
      }
     ]
    },
    "25b37eebc3644d1dba42ce5cb31f81ee": {
     "views": [
      {
       "cell_index": 15
      }
     ]
    },
    "54c988d9b4484004929b4c1356a54c46": {
     "views": [
      {
       "cell_index": 15
      }
     ]
    },
    "7546e3b64896411da7d4d6bd39dd4570": {
     "views": [
      {
       "cell_index": 8
      }
     ]
    },
    "96aea6569f844f9bad547ff946afb62b": {
     "views": [
      {
       "cell_index": 15
      }
     ]
    },
    "c32a69abe8be435c8b16d7f9345c6132": {
     "views": [
      {
       "cell_index": 15
      }
     ]
    },
    "c7459508564546529c5bdcf2888e5405": {
     "views": [
      {
       "cell_index": 15
      }
     ]
    },
    "d358d172800342fbbfdc33a6014c09a2": {
     "views": [
      {
       "cell_index": 15
      }
     ]
    },
    "fb07d9942cec48698d2a37d2f1c5c602": {
     "views": [
      {
       "cell_index": 15
      }
     ]
    }
   },
   "version": "1.2.0"
  }
 },
 "nbformat": 4,
 "nbformat_minor": 2
}
